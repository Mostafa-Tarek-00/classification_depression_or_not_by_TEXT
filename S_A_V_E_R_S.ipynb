{
 "cells": [
  {
   "cell_type": "code",
   "execution_count": 1,
   "metadata": {
    "id": "l0L_91p3MBKl"
   },
   "outputs": [],
   "source": [
    "import re\n",
    "import string\n",
    "import numpy as np\n",
    "import pandas as pd\n",
    "import matplotlib.pyplot as plt\n",
    "import seaborn as sns\n",
    "import nltk\n",
    "from nltk.stem import PorterStemmer\n",
    "from nltk.stem import WordNetLemmatizer\n",
    "from nltk.corpus import stopwords\n",
    "import re\n",
    "from keras import optimizers\n",
    "from sklearn.model_selection import train_test_split\n",
    "from tensorflow.keras.losses import mean_squared_error\n",
    "from tensorflow.keras.layers import LSTM\n",
    "from tensorflow.keras.layers import Bidirectional\n",
    "from tensorflow.keras.layers import Dense\n",
    "from tensorflow.keras.preprocessing.text import one_hot\n",
    "from tensorflow.keras.layers import Embedding\n",
    "from tensorflow.keras.preprocessing.sequence import pad_sequences\n",
    "from tensorflow.keras.models import Sequential"
   ]
  },
  {
   "cell_type": "code",
   "execution_count": 3,
   "metadata": {
    "colab": {
     "base_uri": "https://localhost:8080/",
     "height": 206
    },
    "id": "s84c0q0dMESj",
    "outputId": "78660ea9-6c50-4406-bc82-a91b087267c6"
   },
   "outputs": [
    {
     "data": {
      "text/html": [
       "<div>\n",
       "<style scoped>\n",
       "    .dataframe tbody tr th:only-of-type {\n",
       "        vertical-align: middle;\n",
       "    }\n",
       "\n",
       "    .dataframe tbody tr th {\n",
       "        vertical-align: top;\n",
       "    }\n",
       "\n",
       "    .dataframe thead th {\n",
       "        text-align: right;\n",
       "    }\n",
       "</style>\n",
       "<table border=\"1\" class=\"dataframe\">\n",
       "  <thead>\n",
       "    <tr style=\"text-align: right;\">\n",
       "      <th></th>\n",
       "      <th>clean_text</th>\n",
       "      <th>is_depression</th>\n",
       "    </tr>\n",
       "  </thead>\n",
       "  <tbody>\n",
       "    <tr>\n",
       "      <th>0</th>\n",
       "      <td>we understand that most people who reply immed...</td>\n",
       "      <td>1</td>\n",
       "    </tr>\n",
       "    <tr>\n",
       "      <th>1</th>\n",
       "      <td>welcome to r depression s check in post a plac...</td>\n",
       "      <td>1</td>\n",
       "    </tr>\n",
       "    <tr>\n",
       "      <th>2</th>\n",
       "      <td>anyone else instead of sleeping more when depr...</td>\n",
       "      <td>1</td>\n",
       "    </tr>\n",
       "    <tr>\n",
       "      <th>3</th>\n",
       "      <td>i ve kind of stuffed around a lot in my life d...</td>\n",
       "      <td>1</td>\n",
       "    </tr>\n",
       "    <tr>\n",
       "      <th>4</th>\n",
       "      <td>sleep is my greatest and most comforting escap...</td>\n",
       "      <td>1</td>\n",
       "    </tr>\n",
       "  </tbody>\n",
       "</table>\n",
       "</div>"
      ],
      "text/plain": [
       "                                          clean_text  is_depression\n",
       "0  we understand that most people who reply immed...              1\n",
       "1  welcome to r depression s check in post a plac...              1\n",
       "2  anyone else instead of sleeping more when depr...              1\n",
       "3  i ve kind of stuffed around a lot in my life d...              1\n",
       "4  sleep is my greatest and most comforting escap...              1"
      ]
     },
     "execution_count": 3,
     "metadata": {},
     "output_type": "execute_result"
    }
   ],
   "source": [
    "# Read dataset & Preprocess text\n",
    "df = pd.read_csv('NLP/depression.csv')\n",
    "df.head()"
   ]
  },
  {
   "cell_type": "code",
   "execution_count": 4,
   "metadata": {
    "colab": {
     "base_uri": "https://localhost:8080/",
     "height": 279
    },
    "id": "Ep8GBt9pMRvy",
    "outputId": "1c58ccca-0cf6-4ef7-d1a2-0027c0a8baa0"
   },
   "outputs": [
    {
     "data": {
      "text/plain": [
       "<AxesSubplot:>"
      ]
     },
     "execution_count": 4,
     "metadata": {},
     "output_type": "execute_result"
    },
    {
     "data": {
      "image/png": "[encoded data removed]",
      "text/plain": [
       "<Figure size 640x480 with 1 Axes>"
      ]
     },
     "metadata": {},
     "output_type": "display_data"
    }
   ],
   "source": [
    "df[\"is_depression\"].value_counts(normalize=True).plot(kind=\"bar\")"
   ]
  },
  {
   "cell_type": "code",
   "execution_count": 5,
   "metadata": {
    "colab": {
     "base_uri": "https://localhost:8080/"
    },
    "id": "sAiJV9mMMT1i",
    "outputId": "9d7d3933-ef3d-4643-d8f9-b48a0f5055f4"
   },
   "outputs": [
    {
     "name": "stdout",
     "output_type": "stream",
     "text": [
      "<class 'pandas.core.frame.DataFrame'>\n",
      "RangeIndex: 7731 entries, 0 to 7730\n",
      "Data columns (total 2 columns):\n",
      " #   Column         Non-Null Count  Dtype \n",
      "---  ------         --------------  ----- \n",
      " 0   clean_text     7731 non-null   object\n",
      " 1   is_depression  7731 non-null   int64 \n",
      "dtypes: int64(1), object(1)\n",
      "memory usage: 120.9+ KB\n"
     ]
    }
   ],
   "source": [
    "df.info()"
   ]
  },
  {
   "cell_type": "code",
   "execution_count": null,
   "metadata": {
    "colab": {
     "base_uri": "https://localhost:8080/"
    },
    "id": "N2bi5VFOMVuL",
    "outputId": "aa5b92c1-de0b-4e9f-b109-84f9029c48a8"
   },
   "outputs": [
    {
     "name": "stderr",
     "output_type": "stream",
     "text": [
      "[nltk_data] Downloading package omw-1.4 to /root/nltk_data...\n",
      "[nltk_data]   Package omw-1.4 is already up-to-date!\n",
      "[nltk_data] Downloading package stopwords to /root/nltk_data...\n",
      "[nltk_data]   Package stopwords is already up-to-date!\n",
      "[nltk_data] Downloading package wordnet to /root/nltk_data...\n",
      "[nltk_data]   Package wordnet is already up-to-date!\n"
     ]
    },
    {
     "data": {
      "text/plain": [
       "True"
      ]
     },
     "execution_count": 5,
     "metadata": {},
     "output_type": "execute_result"
    }
   ],
   "source": [
    "nltk.download('omw-1.4')\n",
    "nltk.download('stopwords')\n",
    "nltk.download('wordnet')"
   ]
  },
  {
   "cell_type": "code",
   "execution_count": 6,
   "metadata": {
    "colab": {
     "base_uri": "https://localhost:8080/",
     "height": 293
    },
    "id": "a0tmVT8YMct2",
    "outputId": "bcf5cab8-7549-40cf-827a-0d96b1a83f0d"
   },
   "outputs": [
    {
     "name": "stderr",
     "output_type": "stream",
     "text": [
      "C:\\Users\\mosta\\AppData\\Local\\Temp\\ipykernel_60972\\884124155.py:8: SettingWithCopyWarning: \n",
      "A value is trying to be set on a copy of a slice from a DataFrame\n",
      "\n",
      "See the caveats in the documentation: https://pandas.pydata.org/pandas-docs/stable/user_guide/indexing.html#returning-a-view-versus-a-copy\n",
      "  df[\"clean_text\"][i]=review\n"
     ]
    },
    {
     "data": {
      "text/html": [
       "<div>\n",
       "<style scoped>\n",
       "    .dataframe tbody tr th:only-of-type {\n",
       "        vertical-align: middle;\n",
       "    }\n",
       "\n",
       "    .dataframe tbody tr th {\n",
       "        vertical-align: top;\n",
       "    }\n",
       "\n",
       "    .dataframe thead th {\n",
       "        text-align: right;\n",
       "    }\n",
       "</style>\n",
       "<table border=\"1\" class=\"dataframe\">\n",
       "  <thead>\n",
       "    <tr style=\"text-align: right;\">\n",
       "      <th></th>\n",
       "      <th>clean_text</th>\n",
       "      <th>is_depression</th>\n",
       "    </tr>\n",
       "  </thead>\n",
       "  <tbody>\n",
       "    <tr>\n",
       "      <th>0</th>\n",
       "      <td>understand people reply immediately op invitat...</td>\n",
       "      <td>1</td>\n",
       "    </tr>\n",
       "    <tr>\n",
       "      <th>1</th>\n",
       "      <td>welcome r depression check post place take mom...</td>\n",
       "      <td>1</td>\n",
       "    </tr>\n",
       "    <tr>\n",
       "      <th>2</th>\n",
       "      <td>anyone else instead sleeping depressed stay ni...</td>\n",
       "      <td>1</td>\n",
       "    </tr>\n",
       "    <tr>\n",
       "      <th>3</th>\n",
       "      <td>kind stuffed around lot life delaying inevitab...</td>\n",
       "      <td>1</td>\n",
       "    </tr>\n",
       "    <tr>\n",
       "      <th>4</th>\n",
       "      <td>sleep greatest comforting escape whenever wake...</td>\n",
       "      <td>1</td>\n",
       "    </tr>\n",
       "  </tbody>\n",
       "</table>\n",
       "</div>"
      ],
      "text/plain": [
       "                                          clean_text  is_depression\n",
       "0  understand people reply immediately op invitat...              1\n",
       "1  welcome r depression check post place take mom...              1\n",
       "2  anyone else instead sleeping depressed stay ni...              1\n",
       "3  kind stuffed around lot life delaying inevitab...              1\n",
       "4  sleep greatest comforting escape whenever wake...              1"
      ]
     },
     "execution_count": 6,
     "metadata": {},
     "output_type": "execute_result"
    }
   ],
   "source": [
    "w=WordNetLemmatizer()\n",
    "for i in range(len(df)):\n",
    "    review=re.sub('[^a-zA-Z]', ' ', df[\"clean_text\"][i])\n",
    "    review=review.lower()\n",
    "    review=review.split()\n",
    "    review=[w.lemmatize(word) for word in review if not word in set(stopwords.words(\"english\"))]\n",
    "    review=\" \".join(review)\n",
    "    df[\"clean_text\"][i]=review\n",
    "df.head()"
   ]
  },
  {
   "cell_type": "code",
   "execution_count": null,
   "metadata": {},
   "outputs": [],
   "source": []
  },
  {
   "cell_type": "code",
   "execution_count": 7,
   "metadata": {
    "colab": {
     "base_uri": "https://localhost:8080/"
    },
    "id": "dVwkydfWMe3d",
    "outputId": "36b3e1de-1c67-45aa-ec52-7fa44a6d6158"
   },
   "outputs": [
    {
     "data": {
      "text/plain": [
       "18611"
      ]
     },
     "execution_count": 7,
     "metadata": {},
     "output_type": "execute_result"
    }
   ],
   "source": [
    "s=set()\n",
    "for i in range(len(df)):\n",
    "    k=df[\"clean_text\"][i].split()\n",
    "    for j in range(len(k)):\n",
    "        s.add(k[j])\n",
    "len(s)"
   ]
  },
  {
   "cell_type": "code",
   "execution_count": 8,
   "metadata": {},
   "outputs": [
    {
     "data": {
      "text/plain": [
       "{'advertised',\n",
       " 'jill',\n",
       " 'hollowed',\n",
       " 'acknowledging',\n",
       " 'fitted',\n",
       " 'mbantu',\n",
       " 'cooperating',\n",
       " 'eek',\n",
       " 'rib',\n",
       " 'opt',\n",
       " 'rugby',\n",
       " 'fluffy',\n",
       " 'hair',\n",
       " 'left',\n",
       " 'goulandris',\n",
       " 'exponentially',\n",
       " 'overdue',\n",
       " 'anandmahindra',\n",
       " 'crumbles',\n",
       " 'mortgage',\n",
       " 'hollywoodheat',\n",
       " 'fuckery',\n",
       " 'dhdpne',\n",
       " 'conceived',\n",
       " 'deluded',\n",
       " 'bun',\n",
       " 'face',\n",
       " 'established',\n",
       " 'summarize',\n",
       " 'charlietm',\n",
       " 'foreteen',\n",
       " 'moreso',\n",
       " 'infrequent',\n",
       " 'inventory',\n",
       " 'markhardy',\n",
       " 'crad',\n",
       " 'prob',\n",
       " 'bottomless',\n",
       " 'ilpc',\n",
       " 'know',\n",
       " 'cloud',\n",
       " 'clipper',\n",
       " 'older',\n",
       " 'prayer',\n",
       " 'default',\n",
       " 'wearablesexpert',\n",
       " 'option',\n",
       " 'awesome',\n",
       " 'beforehand',\n",
       " 'everytime',\n",
       " 'stagger',\n",
       " 'examz',\n",
       " 'excellent',\n",
       " 'reinstall',\n",
       " 'discover',\n",
       " 'demanded',\n",
       " 'blockchain',\n",
       " 'jayenge',\n",
       " 'bangalore',\n",
       " 'followsavvy',\n",
       " 'alternate',\n",
       " 'substantial',\n",
       " 'hurry',\n",
       " 'overestimated',\n",
       " 'impossible',\n",
       " 'program',\n",
       " 'chewbeka',\n",
       " 'medicaid',\n",
       " 'eliminated',\n",
       " 'lavenderetherealmusic',\n",
       " 'angstst',\n",
       " 'tends',\n",
       " 'choclate',\n",
       " 'cluster',\n",
       " 'bk',\n",
       " 'seizure',\n",
       " 'ki',\n",
       " 'dwindle',\n",
       " 'erase',\n",
       " 'whatsoever',\n",
       " 'toi',\n",
       " 'trophyless',\n",
       " 'helppp',\n",
       " 'reward',\n",
       " 'section',\n",
       " 'insufficient',\n",
       " 'alike',\n",
       " 'superiority',\n",
       " 'disclosure',\n",
       " 'corrective',\n",
       " 'gar',\n",
       " 'fend',\n",
       " 'healer',\n",
       " 'grieved',\n",
       " 'hesitated',\n",
       " 'sv',\n",
       " 'loveless',\n",
       " 'pepperoni',\n",
       " 'waaa',\n",
       " 'rd',\n",
       " 'supernatural',\n",
       " 'pedestal',\n",
       " 'herb',\n",
       " 'chickening',\n",
       " 'rabach',\n",
       " 'profound',\n",
       " 'obama',\n",
       " 'relaxation',\n",
       " 'muscle',\n",
       " 'attract',\n",
       " 'transfig',\n",
       " 'mtva',\n",
       " 'zero',\n",
       " 'whole',\n",
       " 'room',\n",
       " 'solicit',\n",
       " 'tommorow',\n",
       " 'cuddy',\n",
       " 'loner',\n",
       " 'ph',\n",
       " 'legitimately',\n",
       " 'ketamine',\n",
       " 'pajama',\n",
       " 'ryanseacrest',\n",
       " 'drinking',\n",
       " 'tryin',\n",
       " 'pocket',\n",
       " 'nice',\n",
       " 'barnacled',\n",
       " 'socially',\n",
       " 'aviod',\n",
       " 'oder',\n",
       " 'vid',\n",
       " 'awwww',\n",
       " 'hugbubble',\n",
       " 'badminton',\n",
       " 'worry',\n",
       " 'sofii',\n",
       " 'andygosling',\n",
       " 'fixed',\n",
       " 'meee',\n",
       " 'labeled',\n",
       " 'nevertheless',\n",
       " 'kong',\n",
       " 'particually',\n",
       " 'timeago',\n",
       " 'menthol',\n",
       " 'mute',\n",
       " 'appears',\n",
       " 'endorphin',\n",
       " 'immm',\n",
       " 'apperantly',\n",
       " 'marriage',\n",
       " 'kingkiwi',\n",
       " 'priscillacruz',\n",
       " 'nothingness',\n",
       " 'placing',\n",
       " 'pressies',\n",
       " 'wimp',\n",
       " 'degrading',\n",
       " 'kno',\n",
       " 'jose',\n",
       " 'overcoming',\n",
       " 'throwaway',\n",
       " 'phil',\n",
       " 'monitor',\n",
       " 'chicago',\n",
       " 'reste',\n",
       " 'sectioning',\n",
       " 'failied',\n",
       " 'musical',\n",
       " 'terrible',\n",
       " 'badmouths',\n",
       " 'arounder',\n",
       " 'freezer',\n",
       " 'slower',\n",
       " 'adderall',\n",
       " 'phoneee',\n",
       " 'ran',\n",
       " 'kelleyrowe',\n",
       " 'dreptate',\n",
       " 'causo',\n",
       " 'nahh',\n",
       " 'potentially',\n",
       " 'paleontology',\n",
       " 'leurs',\n",
       " 'mistake',\n",
       " 'shinjini',\n",
       " 'pookie',\n",
       " 'pharmacy',\n",
       " 'rewiring',\n",
       " 'atanas',\n",
       " 'tanialt',\n",
       " 'exec',\n",
       " 'herzen',\n",
       " 'click',\n",
       " 'ii',\n",
       " 'deliver',\n",
       " 'tennis',\n",
       " 'reccently',\n",
       " 'halo',\n",
       " 'transport',\n",
       " 'hannah',\n",
       " 'grenzen',\n",
       " 'coachella',\n",
       " 'crashed',\n",
       " 'disrespectful',\n",
       " 'thats',\n",
       " 'trapezoid',\n",
       " 'wasted',\n",
       " 'mooorning',\n",
       " 'misspelling',\n",
       " 'kaybee',\n",
       " 'life',\n",
       " 'immerse',\n",
       " 'abdulbasit',\n",
       " 'band',\n",
       " 'chill',\n",
       " 'aguthu',\n",
       " 'uneasy',\n",
       " 'xambix',\n",
       " 'alexandernl',\n",
       " 'mokshjuneja',\n",
       " 'hypothesis',\n",
       " 'yangsfolder',\n",
       " 'plonge',\n",
       " 'dissapointed',\n",
       " 'doubt',\n",
       " 'er',\n",
       " 'crazy',\n",
       " 'favou',\n",
       " 'overprotective',\n",
       " 'lhe',\n",
       " 'sollte',\n",
       " 'fasten',\n",
       " 'gmt',\n",
       " 'dang',\n",
       " 'alright',\n",
       " 'jazred',\n",
       " 'blackberry',\n",
       " 'trash',\n",
       " 'entirety',\n",
       " 'prefer',\n",
       " 'annaxmayr',\n",
       " 'kimboinlimbo',\n",
       " 'nambu',\n",
       " 'freaking',\n",
       " 'summer',\n",
       " 'riddled',\n",
       " 'wou',\n",
       " 'gro',\n",
       " 'unethical',\n",
       " 'chetan',\n",
       " 'approche',\n",
       " 'jackhammer',\n",
       " 'cigarette',\n",
       " 'form',\n",
       " 'msmelbee',\n",
       " 'wart',\n",
       " 'ann',\n",
       " 'subsides',\n",
       " 'differently',\n",
       " 'lo',\n",
       " 'empowered',\n",
       " 'compounding',\n",
       " 'inmigrant',\n",
       " 'recomfortable',\n",
       " 'subscriberuchisoyafpo',\n",
       " 'conquered',\n",
       " 'sniffling',\n",
       " 'degenerate',\n",
       " 'firebug',\n",
       " 'spoonful',\n",
       " 'kon',\n",
       " 'quickly',\n",
       " 'ahaa',\n",
       " 'duerme',\n",
       " 'african',\n",
       " 'stated',\n",
       " 'ayina',\n",
       " 'ocular',\n",
       " 'directional',\n",
       " 'babyporridge',\n",
       " 'physiological',\n",
       " 'apprentice',\n",
       " 'trimester',\n",
       " 'realizing',\n",
       " 'ferociously',\n",
       " 'employ',\n",
       " 'dispute',\n",
       " 'exciting',\n",
       " 'dodging',\n",
       " 'shetland',\n",
       " 'befroee',\n",
       " 'zaleplon',\n",
       " 'whiplash',\n",
       " 'hypothetically',\n",
       " 'advance',\n",
       " 'plein',\n",
       " 'neue',\n",
       " 'redgray',\n",
       " 'sends',\n",
       " 'tax',\n",
       " 'creation',\n",
       " 'sending',\n",
       " 'passerby',\n",
       " 'cassou',\n",
       " 'adrift',\n",
       " 'kia',\n",
       " 'oppressed',\n",
       " 'wednesday',\n",
       " 'nanna',\n",
       " 'clingy',\n",
       " 'identity',\n",
       " 'dojo',\n",
       " 'contract',\n",
       " 'alejandralei',\n",
       " 'moved',\n",
       " 'napping',\n",
       " 'dupont',\n",
       " 'viter',\n",
       " 'koh',\n",
       " 'twitteriffic',\n",
       " 'freezing',\n",
       " 'suffice',\n",
       " 'pisode',\n",
       " 'mouth',\n",
       " 'expire',\n",
       " 'blur',\n",
       " 'vais',\n",
       " 'funnier',\n",
       " 'casket',\n",
       " 'nowplaying',\n",
       " 'gipton',\n",
       " 'paulcoles',\n",
       " 'jesus',\n",
       " 'vete',\n",
       " 'israelite',\n",
       " 'mrsshedfire',\n",
       " 'strike',\n",
       " 'bjp',\n",
       " 'muchh',\n",
       " 'deepbluesealove',\n",
       " 'resembling',\n",
       " 'damaged',\n",
       " 'drank',\n",
       " 'dumped',\n",
       " 'postal',\n",
       " 'learn',\n",
       " 'vodka',\n",
       " 'grading',\n",
       " 'filler',\n",
       " 'aways',\n",
       " 'emdr',\n",
       " 'ndalama',\n",
       " 'incapable',\n",
       " 'cling',\n",
       " 'undergrad',\n",
       " 'zumindest',\n",
       " 'lowering',\n",
       " 'mariage',\n",
       " 'legendary',\n",
       " 'bastard',\n",
       " 'average',\n",
       " 'gutter',\n",
       " 'triop',\n",
       " 'linear',\n",
       " 'dictatorship',\n",
       " 'cartel',\n",
       " 'mahisshi',\n",
       " 'diagnosed',\n",
       " 'ambition',\n",
       " 'tomahawk',\n",
       " 'distanced',\n",
       " 'ramai',\n",
       " 'focussing',\n",
       " 'beast',\n",
       " 'drivin',\n",
       " 'curl',\n",
       " 'drew',\n",
       " 'controling',\n",
       " 'famous',\n",
       " 'skipped',\n",
       " 'ction',\n",
       " 'surreyscorchers',\n",
       " 'bureaucratic',\n",
       " 'annemarike',\n",
       " 'diy',\n",
       " 'suspect',\n",
       " 'tpmp',\n",
       " 'ub',\n",
       " 'immigrant',\n",
       " 'spreading',\n",
       " 'kolaches',\n",
       " 'tfan',\n",
       " 'shoplifting',\n",
       " 'seemed',\n",
       " 'mae',\n",
       " 'sits',\n",
       " 'ooho',\n",
       " 'great',\n",
       " 'rage',\n",
       " 'ergonomix',\n",
       " 'papyrus',\n",
       " 'throughly',\n",
       " 'soigne',\n",
       " 'sprint',\n",
       " 'usd',\n",
       " 'rely',\n",
       " 'chordsy',\n",
       " 'pac',\n",
       " 'dg',\n",
       " 'fact',\n",
       " 'cracked',\n",
       " 'expected',\n",
       " 'agh',\n",
       " 'changing',\n",
       " 'sight',\n",
       " 'hinweis',\n",
       " 'timberlake',\n",
       " 'bureaucrat',\n",
       " 'instantaneously',\n",
       " 'amab',\n",
       " 'organizing',\n",
       " 'contacted',\n",
       " 'discipline',\n",
       " 'neurologically',\n",
       " 'despondent',\n",
       " 'mach',\n",
       " 'taub',\n",
       " 'job',\n",
       " 'bend',\n",
       " 'rebuttal',\n",
       " 'starrheit',\n",
       " 'genitals',\n",
       " 'listen',\n",
       " 'avoiding',\n",
       " 'dotnetnuke',\n",
       " 'imminent',\n",
       " 'phrasing',\n",
       " 'suks',\n",
       " 'amanita',\n",
       " 'foxwhisperer',\n",
       " 'remind',\n",
       " 'alystoe',\n",
       " 'nickdawson',\n",
       " 'different',\n",
       " 'promoted',\n",
       " 'fluent',\n",
       " 'jaii',\n",
       " 'blow',\n",
       " 'tongue',\n",
       " 'disgusted',\n",
       " 'thiss',\n",
       " 'sadder',\n",
       " 'ilovepie',\n",
       " 'cdyncinz',\n",
       " 'snaprebelx',\n",
       " 'pullaiya',\n",
       " 'cash',\n",
       " 'hack',\n",
       " 'ala',\n",
       " 'stretch',\n",
       " 'dp',\n",
       " 'colindemar',\n",
       " 'neglectful',\n",
       " 'anyones',\n",
       " 'gay',\n",
       " 'owning',\n",
       " 'boohoohoozx',\n",
       " 'clutter',\n",
       " 'unbound',\n",
       " 'contradictory',\n",
       " 'guiding',\n",
       " 'deprssing',\n",
       " 'lightheaded',\n",
       " 'fart',\n",
       " 'ozero',\n",
       " 'online',\n",
       " 'aripiprazole',\n",
       " 'cyfyre',\n",
       " 'gray',\n",
       " 'iamjazzyfizzle',\n",
       " 'callung',\n",
       " 'restart',\n",
       " 'half',\n",
       " 'alienation',\n",
       " 'bud',\n",
       " 'jammed',\n",
       " 'tipping',\n",
       " 'lfcbbc',\n",
       " 'var',\n",
       " 'sympathetic',\n",
       " 'muffled',\n",
       " 'featherinair',\n",
       " 'quant',\n",
       " 'boyekweku',\n",
       " 'baord',\n",
       " 'tufohfqg',\n",
       " 'toddlington',\n",
       " 'western',\n",
       " 'crotch',\n",
       " 'bowel',\n",
       " 'careful',\n",
       " 'choco',\n",
       " 'reloaded',\n",
       " 'em',\n",
       " 'stabilizer',\n",
       " 'freshman',\n",
       " 'wahhh',\n",
       " 'roth',\n",
       " 'histoire',\n",
       " 'productivity',\n",
       " 'wahey',\n",
       " 'aa',\n",
       " 'priceline',\n",
       " 'sort',\n",
       " 'silently',\n",
       " 'microsoft',\n",
       " 'claw',\n",
       " 'chubster',\n",
       " 'intact',\n",
       " 'geared',\n",
       " 'hellmuth',\n",
       " 'samshepherd',\n",
       " 'pumping',\n",
       " 'remaking',\n",
       " 'musk',\n",
       " 'countered',\n",
       " 'prescription',\n",
       " 'basilngidi',\n",
       " 'showered',\n",
       " 'pessimistic',\n",
       " 'ol',\n",
       " 'carotid',\n",
       " 'stanza',\n",
       " 'precarious',\n",
       " 'tanaganeva',\n",
       " 'xxx',\n",
       " 'edible',\n",
       " 'molestarlos',\n",
       " 'commited',\n",
       " 'vemsteroo',\n",
       " 'eclipse',\n",
       " 'deteriorates',\n",
       " 'yon',\n",
       " 'consult',\n",
       " 'starved',\n",
       " 'launch',\n",
       " 'okay',\n",
       " 'contentment',\n",
       " 'scombroid',\n",
       " 'howard',\n",
       " 'unlivable',\n",
       " 'spring',\n",
       " 'honesty',\n",
       " 'ceo',\n",
       " 'pussied',\n",
       " 'genocide',\n",
       " 'script',\n",
       " 'merely',\n",
       " 'erdbeerquaark',\n",
       " 'jokerrrr',\n",
       " 'uglycomments',\n",
       " 'arabic',\n",
       " 'lamb',\n",
       " 'suspension',\n",
       " 'messaging',\n",
       " 'easier',\n",
       " 'projecta',\n",
       " 'fam',\n",
       " 'helluva',\n",
       " 'mari',\n",
       " 'alexrussin',\n",
       " 'louie',\n",
       " 'catwalk',\n",
       " 'fauxalize',\n",
       " 'nest',\n",
       " 'nature',\n",
       " 'gastroenterologist',\n",
       " 'providing',\n",
       " 'abt',\n",
       " 'decorate',\n",
       " 'hoye',\n",
       " 'trend',\n",
       " 'momentan',\n",
       " 'gee',\n",
       " 'hungry',\n",
       " 'oohh',\n",
       " 'allowance',\n",
       " 'fuckign',\n",
       " 'praise',\n",
       " 'smartphones',\n",
       " 'assimilation',\n",
       " 'modmail',\n",
       " 'klarer',\n",
       " 'taxi',\n",
       " 'holding',\n",
       " 'spectrum',\n",
       " 'achieved',\n",
       " 'poster',\n",
       " 'wohld',\n",
       " 'af',\n",
       " 'accelerating',\n",
       " 'titled',\n",
       " 'desire',\n",
       " 'bitch',\n",
       " 'capitalist',\n",
       " 'bart',\n",
       " 'schlechte',\n",
       " 'complicated',\n",
       " 'whipped',\n",
       " 'cargo',\n",
       " 'experiemcing',\n",
       " 'endthestigma',\n",
       " 'imagination',\n",
       " 'teenage',\n",
       " 'plausible',\n",
       " 'craigelder',\n",
       " 'chooses',\n",
       " 'recovered',\n",
       " 'worrisome',\n",
       " 'vacation',\n",
       " 'devil',\n",
       " 'dananner',\n",
       " 'normalement',\n",
       " 'trope',\n",
       " 'exploring',\n",
       " 'bradiewebbstack',\n",
       " 'sombody',\n",
       " 'seedling',\n",
       " 'dope',\n",
       " 'breadandbadger',\n",
       " 'anyway',\n",
       " 'epiphany',\n",
       " 'predicament',\n",
       " 'everbody',\n",
       " 'hush',\n",
       " 'coworker',\n",
       " 'hillarious',\n",
       " 'de',\n",
       " 'applies',\n",
       " 'thousand',\n",
       " 'quits',\n",
       " 'diabetes',\n",
       " 'allannyash',\n",
       " 'azz',\n",
       " 'stummics',\n",
       " 'punkin',\n",
       " 'language',\n",
       " 'hang',\n",
       " 'bunt',\n",
       " 'wanky',\n",
       " 'nao',\n",
       " 'portrayed',\n",
       " 'helpushelpyou',\n",
       " 'kg',\n",
       " 'penalba',\n",
       " 'zoning',\n",
       " 'dehydrate',\n",
       " 'cyrill',\n",
       " 'opensync',\n",
       " 'zino',\n",
       " 'tht',\n",
       " 'kantu',\n",
       " 'hesitant',\n",
       " 'console',\n",
       " 'tingle',\n",
       " 'usernames',\n",
       " 'misconception',\n",
       " 'rayed',\n",
       " 'figured',\n",
       " 'teary',\n",
       " 'feasibility',\n",
       " 'gooooood',\n",
       " 'reporting',\n",
       " 'oluwatimeelehin',\n",
       " 'greatest',\n",
       " 'pimms',\n",
       " 'katsun',\n",
       " 'creek',\n",
       " 'colossal',\n",
       " 'lauraechilds',\n",
       " 'medical',\n",
       " 'tomber',\n",
       " 'regret',\n",
       " 'timed',\n",
       " 'entourage',\n",
       " 'weaned',\n",
       " 'originally',\n",
       " 'comfortable',\n",
       " 'fierce',\n",
       " 'mannered',\n",
       " 'councious',\n",
       " 'jadi',\n",
       " 'absolutely',\n",
       " 'delirious',\n",
       " 'aforementioned',\n",
       " 'nosie',\n",
       " 'unnerved',\n",
       " 'croulent',\n",
       " 'vinca',\n",
       " 'commiting',\n",
       " 'fur',\n",
       " 'people',\n",
       " 'directly',\n",
       " 'unemotional',\n",
       " 'ttes',\n",
       " 'grocery',\n",
       " 'dehydration',\n",
       " 'stupidi',\n",
       " 'homophobic',\n",
       " 'oi',\n",
       " 'italy',\n",
       " 'tristesse',\n",
       " 'wikipedia',\n",
       " 'spoil',\n",
       " 'cheene',\n",
       " 'jst',\n",
       " 'problem',\n",
       " 'believer',\n",
       " 'snapped',\n",
       " 'qd',\n",
       " 'unraveling',\n",
       " 'vet',\n",
       " 'ah',\n",
       " 'strained',\n",
       " 'conditional',\n",
       " 'ndp',\n",
       " 'bh',\n",
       " 'humanity',\n",
       " 'worsened',\n",
       " 'hsu',\n",
       " 'arse',\n",
       " 'thick',\n",
       " 'minded',\n",
       " 'incharge',\n",
       " 'custodian',\n",
       " 'aaaaah',\n",
       " 'homelessness',\n",
       " 'physician',\n",
       " 'stepdad',\n",
       " 'drewl',\n",
       " 'lonely',\n",
       " 'release',\n",
       " 'legacy',\n",
       " 'woodntap',\n",
       " 'abortion',\n",
       " 'laziness',\n",
       " 'frust',\n",
       " 'concern',\n",
       " 'serpent',\n",
       " 'aku',\n",
       " 'genting',\n",
       " 'popularity',\n",
       " 'dryish',\n",
       " 'conan',\n",
       " 'separating',\n",
       " 'blade',\n",
       " 'lockdown',\n",
       " 'cheerful',\n",
       " 'fruit',\n",
       " 'mediocracy',\n",
       " 'soaked',\n",
       " 'delved',\n",
       " 'terrace',\n",
       " 'trudumb',\n",
       " 'admins',\n",
       " 'funny',\n",
       " 'saved',\n",
       " 'ride',\n",
       " 'cancelled',\n",
       " 'nationwideclass',\n",
       " 'ay',\n",
       " 'obmintegrativeandcomplementarymedicine',\n",
       " 'audio',\n",
       " 'seclude',\n",
       " 'glimpse',\n",
       " 'relocating',\n",
       " 'passion',\n",
       " 'yearly',\n",
       " 'favereds',\n",
       " 'podcast',\n",
       " 'struck',\n",
       " 'cup',\n",
       " 'killer',\n",
       " 'hotel',\n",
       " 'frends',\n",
       " 'wanting',\n",
       " 'discomfort',\n",
       " 'givven',\n",
       " 'marion',\n",
       " 'dreading',\n",
       " 'flippin',\n",
       " 'juste',\n",
       " 'destroyed',\n",
       " 'sobbing',\n",
       " 'unfulfilling',\n",
       " 'doki',\n",
       " 'youall',\n",
       " 'inge',\n",
       " 'map',\n",
       " 'prime',\n",
       " 'folie',\n",
       " 'gna',\n",
       " 'worldly',\n",
       " 'psychology',\n",
       " 'vyvanse',\n",
       " 'transitioning',\n",
       " 'palipidone',\n",
       " 'deserves',\n",
       " 'appletv',\n",
       " 'rebellious',\n",
       " 'disowned',\n",
       " 'emilthedk',\n",
       " 'pinched',\n",
       " 'carry',\n",
       " 'failwhale',\n",
       " 'snoring',\n",
       " 'originality',\n",
       " 'colonoscopy',\n",
       " 'vented',\n",
       " 'ooooh',\n",
       " 'lifetime',\n",
       " 'zaydia',\n",
       " 'ruminating',\n",
       " 'colouring',\n",
       " 'outrageous',\n",
       " 'unhealthy',\n",
       " 'institution',\n",
       " 'stepmother',\n",
       " 'exchanging',\n",
       " 'placement',\n",
       " 'focus',\n",
       " 'slack',\n",
       " 'internship',\n",
       " 'romantic',\n",
       " 'outgrowth',\n",
       " 'showing',\n",
       " 'moderator',\n",
       " 'attain',\n",
       " 'purity',\n",
       " 'neet',\n",
       " 'infer',\n",
       " 'transcode',\n",
       " 'contourner',\n",
       " 'tinier',\n",
       " 'xml',\n",
       " 'friendly',\n",
       " 'soem',\n",
       " 'stormed',\n",
       " 'increasing',\n",
       " 'ew',\n",
       " 'zy',\n",
       " 'point',\n",
       " 'hawu',\n",
       " 'neccessary',\n",
       " 'biked',\n",
       " 'ar',\n",
       " 'benackerman',\n",
       " 'golden',\n",
       " 'borrowed',\n",
       " 'overstimulated',\n",
       " 'automationatacost',\n",
       " 'suppressed',\n",
       " 'rougeforever',\n",
       " 'sometype',\n",
       " 'following',\n",
       " 'disappeared',\n",
       " 'jonnypotter',\n",
       " 'awhile',\n",
       " 'timewarp',\n",
       " 'house',\n",
       " 'noagenda',\n",
       " 'twitt',\n",
       " 'personaly',\n",
       " 'eventually',\n",
       " 'forex',\n",
       " 'clusterfuck',\n",
       " 'scream',\n",
       " 'kaozdesign',\n",
       " 'gfreeman',\n",
       " 'surgery',\n",
       " 'wkkexnjdys',\n",
       " 'neutrophil',\n",
       " 'imperiusrex',\n",
       " 'recognize',\n",
       " 'subsisting',\n",
       " 'zabaturage',\n",
       " 'arg',\n",
       " 'glass',\n",
       " 'word',\n",
       " 'sadist',\n",
       " 'advertisement',\n",
       " 'toddler',\n",
       " 'website',\n",
       " 'webpage',\n",
       " 'retreated',\n",
       " 'jumbled',\n",
       " 'rmilana',\n",
       " 'bmar',\n",
       " 'oslinam',\n",
       " 'terribleness',\n",
       " 'staircase',\n",
       " 'pretended',\n",
       " 'haaaaa',\n",
       " 'rickrodgers',\n",
       " 'mechanism',\n",
       " 'gym',\n",
       " 'kisluvkis',\n",
       " 'bavugar',\n",
       " 'brave',\n",
       " 'lcsw',\n",
       " 'treasured',\n",
       " 'dein',\n",
       " 'gwen',\n",
       " 'housework',\n",
       " 'disrupt',\n",
       " 'grandmother',\n",
       " 'dmukpr',\n",
       " 'miku',\n",
       " 'backstory',\n",
       " 'zu',\n",
       " 'mistystilletto',\n",
       " 'swapping',\n",
       " 'filed',\n",
       " 'bought',\n",
       " 'ludicrous',\n",
       " 'acoutics',\n",
       " 'v',\n",
       " 'phenomenon',\n",
       " 'succeed',\n",
       " 'godot',\n",
       " 'organ',\n",
       " 'reciprocating',\n",
       " 'fcmetz',\n",
       " 'vhs',\n",
       " 'resulting',\n",
       " 'met',\n",
       " 'shirk',\n",
       " 'blonde',\n",
       " 'imsonia',\n",
       " 'contest',\n",
       " 'defra',\n",
       " 'untie',\n",
       " 'shelf',\n",
       " 'yep',\n",
       " 'raha',\n",
       " 'fox',\n",
       " 'possibly',\n",
       " 'parikabhatli',\n",
       " 'kiya',\n",
       " 'jodie',\n",
       " 'clickbait',\n",
       " 'bbc',\n",
       " 'ported',\n",
       " 'mets',\n",
       " 'simp',\n",
       " 'ault',\n",
       " 'resourceful',\n",
       " 'pot',\n",
       " 'worsens',\n",
       " 'midday',\n",
       " 'donate',\n",
       " 'external',\n",
       " 'fatherless',\n",
       " 'billbeckett',\n",
       " 'preferably',\n",
       " 'kenmcguire',\n",
       " 'reasssurace',\n",
       " 'keeping',\n",
       " 'fot',\n",
       " 'grimness',\n",
       " 'spider',\n",
       " 'utan',\n",
       " 'rooted',\n",
       " 'fulfills',\n",
       " 'eject',\n",
       " 'thejcpp',\n",
       " 'bbm',\n",
       " 'ntsikimazwai',\n",
       " 'lysol',\n",
       " 'kiss',\n",
       " 'dimmer',\n",
       " 'tomomorrow',\n",
       " 'dishonest',\n",
       " 'butterfly',\n",
       " 'blocker',\n",
       " 'bestadvice',\n",
       " 'xual',\n",
       " 'bahar',\n",
       " 'lunafiko',\n",
       " 'longs',\n",
       " 'appetizing',\n",
       " 'vain',\n",
       " 'cue',\n",
       " 'poitu',\n",
       " 'aberdeen',\n",
       " 'pyromg',\n",
       " 'remembering',\n",
       " ...}"
      ]
     },
     "execution_count": 8,
     "metadata": {},
     "output_type": "execute_result"
    }
   ],
   "source": [
    "s"
   ]
  },
  {
   "cell_type": "code",
   "execution_count": null,
   "metadata": {
    "id": "NhNpue2-MsKl"
   },
   "outputs": [],
   "source": [
    "voc_size=16511\n",
    "onehot_repr1=[one_hot(words,voc_size)for words in df[\"clean_text\"]]"
   ]
  },
  {
   "cell_type": "code",
   "execution_count": null,
   "metadata": {
    "colab": {
     "base_uri": "https://localhost:8080/"
    },
    "id": "J5QgzAJ4MveH",
    "outputId": "48e728b5-1340-4633-cf79-d961b1e4b6f7"
   },
   "outputs": [
    {
     "data": {
      "text/plain": [
       "1844"
      ]
     },
     "execution_count": 9,
     "metadata": {},
     "output_type": "execute_result"
    }
   ],
   "source": [
    "max=0\n",
    "for i in onehot_repr1:\n",
    "    if len(i)>max:\n",
    "        max=len(i)\n",
    "max"
   ]
  },
  {
   "cell_type": "code",
   "execution_count": null,
   "metadata": {
    "id": "mHqDVbf5Mvax"
   },
   "outputs": [],
   "source": [
    "sent_length=max\n",
    "embedded_docs1=pad_sequences(onehot_repr1,padding='pre',maxlen=sent_length)"
   ]
  },
  {
   "cell_type": "code",
   "execution_count": null,
   "metadata": {
    "id": "GmqhWv2a52tH"
   },
   "outputs": [],
   "source": [
    "Y=df[\"is_depression\"]"
   ]
  },
  {
   "cell_type": "code",
   "execution_count": null,
   "metadata": {
    "colab": {
     "base_uri": "https://localhost:8080/"
    },
    "id": "CLqhVL0Y55rA",
    "outputId": "bb7dcb3c-0847-4737-cdab-7c31560ef469"
   },
   "outputs": [
    {
     "data": {
      "text/plain": [
       "(7731, 1844)"
      ]
     },
     "execution_count": 12,
     "metadata": {},
     "output_type": "execute_result"
    }
   ],
   "source": [
    "embedded_docs1.shape"
   ]
  },
  {
   "cell_type": "code",
   "execution_count": null,
   "metadata": {
    "id": "VFHLRDnh58BX"
   },
   "outputs": [],
   "source": [
    "X_train,X_test,Y_train,Y_test=train_test_split(embedded_docs1,Y,test_size=0.2,random_state=16,stratify=Y)"
   ]
  },
  {
   "cell_type": "code",
   "execution_count": null,
   "metadata": {
    "colab": {
     "base_uri": "https://localhost:8080/"
    },
    "id": "1Xgu2cVt6Cvp",
    "outputId": "2543fa96-0472-406f-f7e1-f900b2fc5f16"
   },
   "outputs": [
    {
     "name": "stdout",
     "output_type": "stream",
     "text": [
      "(6184, 1844) (6184,) (1547, 1844) (1547,)\n"
     ]
    }
   ],
   "source": [
    "print(X_train.shape,Y_train.shape,X_test.shape,Y_test.shape)"
   ]
  },
  {
   "cell_type": "markdown",
   "metadata": {
    "id": "GPTgpkp57UO3"
   },
   "source": [
    "# **1st LSTM model**"
   ]
  },
  {
   "cell_type": "code",
   "execution_count": null,
   "metadata": {
    "colab": {
     "base_uri": "https://localhost:8080/"
    },
    "id": "dDhl6PW55uyj",
    "outputId": "80978383-7817-4cce-a555-c82c07826552"
   },
   "outputs": [
    {
     "name": "stdout",
     "output_type": "stream",
     "text": [
      "Model: \"sequential\"\n",
      "_________________________________________________________________\n",
      " Layer (type)                Output Shape              Param #   \n",
      "=================================================================\n",
      " embedding (Embedding)       (None, 1844, 3688)        60892568  \n",
      "                                                                 \n",
      " lstm (LSTM)                 (None, 1)                 14760     \n",
      "                                                                 \n",
      " dense (Dense)               (None, 1)                 2         \n",
      "                                                                 \n",
      "=================================================================\n",
      "Total params: 60,907,330\n",
      "Trainable params: 60,907,330\n",
      "Non-trainable params: 0\n",
      "_________________________________________________________________\n",
      "None\n"
     ]
    },
    {
     "name": "stderr",
     "output_type": "stream",
     "text": [
      "/usr/local/lib/python3.8/dist-packages/keras/optimizers/optimizer_v2/gradient_descent.py:108: UserWarning: The `lr` argument is deprecated, use `learning_rate` instead.\n",
      "  super(SGD, self).__init__(name, **kwargs)\n"
     ]
    }
   ],
   "source": [
    "embedding_vector_features=sent_length*2\n",
    "model1=Sequential()\n",
    "model1.add(Embedding(voc_size,embedding_vector_features,input_length=sent_length))\n",
    "model1.add((LSTM(1)))\n",
    "model1.add(Dense(1,activation='sigmoid'))\n",
    "sgd = optimizers.SGD(lr=0.001, decay=1e-6, momentum=0.9, nesterov=True)\n",
    "model1.compile(loss='mean_squared_error',optimizer=sgd,metrics=['accuracy'])\n",
    "print(model1.summary())"
   ]
  },
  {
   "cell_type": "code",
   "execution_count": null,
   "metadata": {
    "colab": {
     "base_uri": "https://localhost:8080/"
    },
    "id": "3JcittPZ5uv7",
    "outputId": "e5817e7c-41ab-4e13-fec2-5f87bd50c026"
   },
   "outputs": [
    {
     "name": "stdout",
     "output_type": "stream",
     "text": [
      "Epoch 1/5\n",
      "3092/3092 [==============================] - 195s 62ms/step - loss: 0.2337 - accuracy: 0.6900 - val_loss: 0.1617 - val_accuracy: 0.8817\n",
      "Epoch 2/5\n",
      "3092/3092 [==============================] - 191s 62ms/step - loss: 0.1204 - accuracy: 0.8807 - val_loss: 0.0914 - val_accuracy: 0.8946\n",
      "Epoch 3/5\n",
      "3092/3092 [==============================] - 171s 55ms/step - loss: 0.0651 - accuracy: 0.9347 - val_loss: 0.0493 - val_accuracy: 0.9528\n",
      "Epoch 4/5\n",
      "3092/3092 [==============================] - 173s 56ms/step - loss: 0.0478 - accuracy: 0.9504 - val_loss: 0.0509 - val_accuracy: 0.9392\n",
      "Epoch 5/5\n",
      "3092/3092 [==============================] - 172s 56ms/step - loss: 0.0388 - accuracy: 0.9583 - val_loss: 0.0422 - val_accuracy: 0.9483\n"
     ]
    }
   ],
   "source": [
    "lstmm1=model1.fit(X_train,Y_train,validation_data=(X_test,Y_test),epochs=5,batch_size=2)"
   ]
  },
  {
   "cell_type": "code",
   "execution_count": null,
   "metadata": {
    "colab": {
     "base_uri": "https://localhost:8080/"
    },
    "id": "6qwpKydKAbtx",
    "outputId": "8fd39fb0-e08e-4a4a-a03b-808a02395d20"
   },
   "outputs": [
    {
     "name": "stdout",
     "output_type": "stream",
     "text": [
      "49/49 [==============================] - 2s 35ms/step\n"
     ]
    }
   ],
   "source": [
    "Y_pred1=model1.predict(X_test)"
   ]
  },
  {
   "cell_type": "code",
   "execution_count": null,
   "metadata": {
    "colab": {
     "base_uri": "https://localhost:8080/"
    },
    "id": "q33Tqhy2E6aF",
    "outputId": "79e1d42b-2239-4871-a8b1-80ffdfd60887"
   },
   "outputs": [
    {
     "data": {
      "text/plain": [
       "array([[0],\n",
       "       [0],\n",
       "       [1],\n",
       "       ...,\n",
       "       [1],\n",
       "       [0],\n",
       "       [0]])"
      ]
     },
     "execution_count": 20,
     "metadata": {},
     "output_type": "execute_result"
    }
   ],
   "source": [
    "Y_pred1=(Y_pred1>=0.5).astype(\"int\")\n",
    "Y_pred1"
   ]
  },
  {
   "cell_type": "code",
   "execution_count": null,
   "metadata": {
    "colab": {
     "base_uri": "https://localhost:8080/"
    },
    "id": "cEQTU4tF5ute",
    "outputId": "3381e19f-d36e-4c4a-b0ac-dbf10e19a8d3"
   },
   "outputs": [
    {
     "data": {
      "text/plain": [
       "array([[774,   6],\n",
       "       [ 74, 693]])"
      ]
     },
     "execution_count": 21,
     "metadata": {},
     "output_type": "execute_result"
    }
   ],
   "source": [
    "from sklearn import metrics\n",
    "confusion_matrix1= metrics.confusion_matrix(Y_test,Y_pred1)\n",
    "confusion_matrix1"
   ]
  },
  {
   "cell_type": "code",
   "execution_count": null,
   "metadata": {
    "id": "9dYij9ZH5uqh"
   },
   "outputs": [],
   "source": [
    "cm_display = metrics.ConfusionMatrixDisplay(confusion_matrix= confusion_matrix1, display_labels= [False, True])"
   ]
  },
  {
   "cell_type": "code",
   "execution_count": null,
   "metadata": {
    "colab": {
     "base_uri": "https://localhost:8080/",
     "height": 279
    },
    "id": "KT2J7Run5un7",
    "outputId": "b9bc6772-cf5c-4e9e-a27d-610a3a57e2ed"
   },
   "outputs": [
    {
     "data": {
      "image/png": "[encoded data removed]",
      "text/plain": [
       "<Figure size 432x288 with 2 Axes>"
      ]
     },
     "metadata": {
      "needs_background": "light"
     },
     "output_type": "display_data"
    }
   ],
   "source": [
    "cm_display.plot()\n",
    "plt.show()"
   ]
  },
  {
   "cell_type": "code",
   "execution_count": null,
   "metadata": {
    "colab": {
     "base_uri": "https://localhost:8080/",
     "height": 573
    },
    "id": "RF1HbzfY7C8v",
    "outputId": "7d074210-3ce7-41df-c246-85c620e91e02"
   },
   "outputs": [
    {
     "data": {
      "image/png": "[encoded data removed]",
      "text/plain": [
       "<Figure size 432x288 with 1 Axes>"
      ]
     },
     "metadata": {
      "needs_background": "light"
     },
     "output_type": "display_data"
    },
    {
     "data": {
      "image/png": "[encoded data removed]",
      "text/plain": [
       "<Figure size 432x288 with 1 Axes>"
      ]
     },
     "metadata": {
      "needs_background": "light"
     },
     "output_type": "display_data"
    }
   ],
   "source": [
    "plt.plot(lstmm1.history['loss'])\n",
    "plt.title('MSE')\n",
    "plt.ylabel('loss')\n",
    "plt.xlabel('epoch')\n",
    "plt.legend(['Train', 'Validation'], loc='upper right')\n",
    "plt.show()\n",
    "\n",
    "#summarize history for val_loss\n",
    "plt.plot(lstmm1.history['val_loss'])\n",
    "plt.title('MSE_val')\n",
    "plt.ylabel('loss')\n",
    "plt.xlabel('epoch')\n",
    "plt.legend(['Train', 'Validation'], loc='upper right')\n",
    "plt.show()"
   ]
  },
  {
   "cell_type": "markdown",
   "metadata": {
    "id": "pIbNvgva7O9v"
   },
   "source": [
    "# **2nd LSTM model**"
   ]
  },
  {
   "cell_type": "code",
   "execution_count": null,
   "metadata": {
    "colab": {
     "base_uri": "https://localhost:8080/"
    },
    "id": "KSQ7BO8F5ulY",
    "outputId": "0911466e-e715-4a05-f2e6-04fa0d48e941"
   },
   "outputs": [
    {
     "name": "stdout",
     "output_type": "stream",
     "text": [
      "Model: \"sequential_1\"\n",
      "_________________________________________________________________\n",
      " Layer (type)                Output Shape              Param #   \n",
      "=================================================================\n",
      " embedding_1 (Embedding)     (None, 1844, 3688)        60892568  \n",
      "                                                                 \n",
      " lstm_1 (LSTM)               (None, 10)                147960    \n",
      "                                                                 \n",
      " dense_1 (Dense)             (None, 1)                 11        \n",
      "                                                                 \n",
      "=================================================================\n",
      "Total params: 61,040,539\n",
      "Trainable params: 61,040,539\n",
      "Non-trainable params: 0\n",
      "_________________________________________________________________\n",
      "None\n"
     ]
    },
    {
     "name": "stderr",
     "output_type": "stream",
     "text": [
      "/usr/local/lib/python3.8/dist-packages/keras/optimizers/optimizer_v2/gradient_descent.py:108: UserWarning: The `lr` argument is deprecated, use `learning_rate` instead.\n",
      "  super(SGD, self).__init__(name, **kwargs)\n"
     ]
    }
   ],
   "source": [
    "embedding_vector_features=sent_length*2\n",
    "model2=Sequential()\n",
    "model2.add(Embedding(voc_size,embedding_vector_features,input_length=sent_length))\n",
    "model2.add((LSTM(10)))\n",
    "model2.add(Dense(1,activation='sigmoid'))\n",
    "sgd = optimizers.SGD(lr=0.001, decay=1e-6, momentum=0.9, nesterov=True)\n",
    "model2.compile(loss='mean_squared_error',optimizer=sgd,metrics=['accuracy'])\n",
    "print(model2.summary())"
   ]
  },
  {
   "cell_type": "code",
   "execution_count": null,
   "metadata": {
    "colab": {
     "base_uri": "https://localhost:8080/"
    },
    "id": "2Bn7Ugwj5uiK",
    "outputId": "ee1c2033-af75-4e3c-db15-d934e4d991d1"
   },
   "outputs": [
    {
     "name": "stdout",
     "output_type": "stream",
     "text": [
      "Epoch 1/5\n",
      "1237/1237 [==============================] - 79s 63ms/step - loss: 0.2405 - accuracy: 0.6843 - val_loss: 0.2183 - val_accuracy: 0.7938\n",
      "Epoch 2/5\n",
      "1237/1237 [==============================] - 66s 54ms/step - loss: 0.1518 - accuracy: 0.8493 - val_loss: 0.1089 - val_accuracy: 0.8791\n",
      "Epoch 3/5\n",
      "1237/1237 [==============================] - 71s 58ms/step - loss: 0.1056 - accuracy: 0.8731 - val_loss: 0.0932 - val_accuracy: 0.8882\n",
      "Epoch 4/5\n",
      "1237/1237 [==============================] - 66s 53ms/step - loss: 0.0941 - accuracy: 0.8847 - val_loss: 0.0828 - val_accuracy: 0.9005\n",
      "Epoch 5/5\n",
      "1237/1237 [==============================] - 66s 53ms/step - loss: 0.0808 - accuracy: 0.8991 - val_loss: 0.0681 - val_accuracy: 0.9224\n"
     ]
    }
   ],
   "source": [
    "lstmm2=model2.fit(X_train,Y_train,validation_data=(X_test,Y_test),epochs=5,batch_size=5)"
   ]
  },
  {
   "cell_type": "code",
   "execution_count": null,
   "metadata": {
    "colab": {
     "base_uri": "https://localhost:8080/"
    },
    "id": "XdBpGbC9Aroo",
    "outputId": "67db9519-cbd4-4e7b-cd6c-0b5c26e192f0"
   },
   "outputs": [
    {
     "name": "stdout",
     "output_type": "stream",
     "text": [
      "49/49 [==============================] - 2s 41ms/step\n"
     ]
    }
   ],
   "source": [
    "Y_pred2=model2.predict(X_test)"
   ]
  },
  {
   "cell_type": "code",
   "execution_count": null,
   "metadata": {
    "colab": {
     "base_uri": "https://localhost:8080/"
    },
    "id": "jAXXpE3kFMMB",
    "outputId": "735cbef0-b0da-44ed-dec6-0bd7048f021e"
   },
   "outputs": [
    {
     "data": {
      "text/plain": [
       "array([[0],\n",
       "       [0],\n",
       "       [1],\n",
       "       ...,\n",
       "       [1],\n",
       "       [0],\n",
       "       [0]])"
      ]
     },
     "execution_count": 29,
     "metadata": {},
     "output_type": "execute_result"
    }
   ],
   "source": [
    "Y_pred2=(Y_pred2>=0.5).astype(\"int\")\n",
    "Y_pred2"
   ]
  },
  {
   "cell_type": "code",
   "execution_count": null,
   "metadata": {
    "colab": {
     "base_uri": "https://localhost:8080/"
    },
    "id": "XZPYx7pm5ufO",
    "outputId": "6a2c2e05-dd6b-422f-f3ef-e745553d77c4"
   },
   "outputs": [
    {
     "data": {
      "text/plain": [
       "array([[764,  16],\n",
       "       [104, 663]])"
      ]
     },
     "execution_count": 30,
     "metadata": {},
     "output_type": "execute_result"
    }
   ],
   "source": [
    "from sklearn import metrics\n",
    "confusion_matrix2= metrics.confusion_matrix(Y_test,Y_pred2)\n",
    "confusion_matrix2"
   ]
  },
  {
   "cell_type": "code",
   "execution_count": null,
   "metadata": {
    "id": "sgLsjw8T5ucY"
   },
   "outputs": [],
   "source": [
    "cm_display = metrics.ConfusionMatrixDisplay(confusion_matrix= confusion_matrix2, display_labels= [False, True])"
   ]
  },
  {
   "cell_type": "code",
   "execution_count": null,
   "metadata": {
    "colab": {
     "base_uri": "https://localhost:8080/",
     "height": 279
    },
    "id": "XIqnwmvD5uZG",
    "outputId": "bf8486b9-6509-4827-938f-f5a3335024de"
   },
   "outputs": [
    {
     "data": {
      "image/png": "[encoded data removed]",
      "text/plain": [
       "<Figure size 432x288 with 2 Axes>"
      ]
     },
     "metadata": {
      "needs_background": "light"
     },
     "output_type": "display_data"
    }
   ],
   "source": [
    "cm_display.plot()\n",
    "plt.show()"
   ]
  },
  {
   "cell_type": "code",
   "execution_count": null,
   "metadata": {
    "colab": {
     "base_uri": "https://localhost:8080/",
     "height": 573
    },
    "id": "yJe4rV-a7ENp",
    "outputId": "ed2519d9-6070-49d0-e694-ed48e2c39740"
   },
   "outputs": [
    {
     "data": {
      "image/png": "[encoded data removed]",
      "text/plain": [
       "<Figure size 432x288 with 1 Axes>"
      ]
     },
     "metadata": {
      "needs_background": "light"
     },
     "output_type": "display_data"
    },
    {
     "data": {
      "image/png": "[encoded data removed]",
      "text/plain": [
       "<Figure size 432x288 with 1 Axes>"
      ]
     },
     "metadata": {
      "needs_background": "light"
     },
     "output_type": "display_data"
    }
   ],
   "source": [
    "plt.plot(lstmm2.history['loss'])\n",
    "plt.title('MSE')\n",
    "plt.ylabel('loss')\n",
    "plt.xlabel('epoch')\n",
    "plt.legend(['Train', 'Validation'], loc='upper right')\n",
    "plt.show()\n",
    "\n",
    "#summarize history for val_loss\n",
    "plt.plot(lstmm2.history['val_loss'])\n",
    "plt.title('MSE_val')\n",
    "plt.ylabel('loss')\n",
    "plt.xlabel('epoch')\n",
    "plt.legend(['Train', 'Validation'], loc='upper right')\n",
    "plt.show()"
   ]
  },
  {
   "cell_type": "markdown",
   "metadata": {
    "id": "KUgTYZzI7E8x"
   },
   "source": [
    "# **3rd LSTM model**\n"
   ]
  },
  {
   "cell_type": "code",
   "execution_count": null,
   "metadata": {
    "colab": {
     "base_uri": "https://localhost:8080/"
    },
    "id": "JTGaxNYvMvXq",
    "outputId": "e195e025-4631-4b99-fc10-6bffe0bc8d3b"
   },
   "outputs": [
    {
     "name": "stdout",
     "output_type": "stream",
     "text": [
      "Model: \"sequential_2\"\n",
      "_________________________________________________________________\n",
      " Layer (type)                Output Shape              Param #   \n",
      "=================================================================\n",
      " embedding_2 (Embedding)     (None, 1844, 3688)        60892568  \n",
      "                                                                 \n",
      " lstm_2 (LSTM)               (None, 2)                 29528     \n",
      "                                                                 \n",
      " dense_2 (Dense)             (None, 1)                 3         \n",
      "                                                                 \n",
      "=================================================================\n",
      "Total params: 60,922,099\n",
      "Trainable params: 60,922,099\n",
      "Non-trainable params: 0\n",
      "_________________________________________________________________\n",
      "None\n"
     ]
    },
    {
     "name": "stderr",
     "output_type": "stream",
     "text": [
      "/usr/local/lib/python3.8/dist-packages/keras/optimizers/optimizer_v2/gradient_descent.py:108: UserWarning: The `lr` argument is deprecated, use `learning_rate` instead.\n",
      "  super(SGD, self).__init__(name, **kwargs)\n"
     ]
    }
   ],
   "source": [
    "embedding_vector_features=sent_length*2\n",
    "model3=Sequential()\n",
    "model3.add(Embedding(voc_size,embedding_vector_features,input_length=sent_length))\n",
    "model3.add((LSTM(2)))\n",
    "model3.add(Dense(1,activation='sigmoid'))\n",
    "sgd = optimizers.SGD(lr=0.01, decay=1e-6, momentum=0.9, nesterov=True)\n",
    "model3.compile(loss='mean_squared_error',optimizer=sgd,metrics=['accuracy'])\n",
    "print(model3.summary())"
   ]
  },
  {
   "cell_type": "code",
   "execution_count": null,
   "metadata": {
    "colab": {
     "base_uri": "https://localhost:8080/"
    },
    "id": "r6z2ViVgOR_v",
    "outputId": "54204be9-7d07-4066-dfe4-ee09a0d164e7"
   },
   "outputs": [
    {
     "name": "stdout",
     "output_type": "stream",
     "text": [
      "Epoch 1/5\n",
      "1237/1237 [==============================] - 66s 52ms/step - loss: 0.1497 - accuracy: 0.7972 - val_loss: 0.0517 - val_accuracy: 0.9438\n",
      "Epoch 2/5\n",
      "1237/1237 [==============================] - 67s 54ms/step - loss: 0.0480 - accuracy: 0.9466 - val_loss: 0.0392 - val_accuracy: 0.9548\n",
      "Epoch 3/5\n",
      "1237/1237 [==============================] - 71s 57ms/step - loss: 0.0377 - accuracy: 0.9573 - val_loss: 0.0361 - val_accuracy: 0.9580\n",
      "Epoch 4/5\n",
      "1237/1237 [==============================] - 63s 51ms/step - loss: 0.0325 - accuracy: 0.9607 - val_loss: 0.0361 - val_accuracy: 0.9586\n",
      "Epoch 5/5\n",
      "1237/1237 [==============================] - 63s 51ms/step - loss: 0.0275 - accuracy: 0.9688 - val_loss: 0.0341 - val_accuracy: 0.9580\n"
     ]
    }
   ],
   "source": [
    "lstmm3=model3.fit(X_train,Y_train,validation_data=(X_test,Y_test),epochs=5,batch_size=5)"
   ]
  },
  {
   "cell_type": "code",
   "execution_count": null,
   "metadata": {
    "colab": {
     "base_uri": "https://localhost:8080/"
    },
    "id": "ivCOHacxOX90",
    "outputId": "60c658fe-fc30-4413-8794-f85944ac8748"
   },
   "outputs": [
    {
     "name": "stdout",
     "output_type": "stream",
     "text": [
      "49/49 [==============================] - 2s 39ms/step\n"
     ]
    }
   ],
   "source": [
    "Y_pred=model3.predict(X_test)"
   ]
  },
  {
   "cell_type": "code",
   "execution_count": null,
   "metadata": {
    "colab": {
     "base_uri": "https://localhost:8080/"
    },
    "id": "HTiVzPIwOvT4",
    "outputId": "16bdea54-272b-42f6-9d70-bbd7113d01c4"
   },
   "outputs": [
    {
     "data": {
      "text/plain": [
       "array([[0],\n",
       "       [0],\n",
       "       [1],\n",
       "       ...,\n",
       "       [1],\n",
       "       [0],\n",
       "       [0]])"
      ]
     },
     "execution_count": 37,
     "metadata": {},
     "output_type": "execute_result"
    }
   ],
   "source": [
    "Y_pred=(Y_pred>=0.5).astype(\"int\")\n",
    "Y_pred"
   ]
  },
  {
   "cell_type": "code",
   "execution_count": null,
   "metadata": {
    "colab": {
     "base_uri": "https://localhost:8080/"
    },
    "id": "Vw7Q_HFzPmyR",
    "outputId": "e9db7d35-7e72-4f76-bb83-f1dff428584f"
   },
   "outputs": [
    {
     "name": "stdout",
     "output_type": "stream",
     "text": [
      "              precision    recall  f1-score   support\n",
      "\n",
      "           0       0.96      0.96      0.96       780\n",
      "           1       0.96      0.95      0.96       767\n",
      "\n",
      "    accuracy                           0.96      1547\n",
      "   macro avg       0.96      0.96      0.96      1547\n",
      "weighted avg       0.96      0.96      0.96      1547\n",
      "\n",
      "[[750  30]\n",
      " [ 35 732]]\n"
     ]
    }
   ],
   "source": [
    "from sklearn.metrics import confusion_matrix\n",
    "from sklearn.metrics import classification_report\n",
    "print(classification_report(Y_test,Y_pred))\n",
    "print(confusion_matrix(Y_test,Y_pred))"
   ]
  },
  {
   "cell_type": "code",
   "execution_count": null,
   "metadata": {
    "colab": {
     "base_uri": "https://localhost:8080/"
    },
    "id": "mvB2-iaOPtFL",
    "outputId": "303b684e-6306-46b1-c8c4-61d75c8078c4"
   },
   "outputs": [
    {
     "data": {
      "text/plain": [
       "array([[750,  30],\n",
       "       [ 35, 732]])"
      ]
     },
     "execution_count": 39,
     "metadata": {},
     "output_type": "execute_result"
    }
   ],
   "source": [
    "from sklearn import metrics\n",
    "confusion_matrix3 = metrics.confusion_matrix(Y_test,Y_pred)\n",
    "confusion_matrix3"
   ]
  },
  {
   "cell_type": "code",
   "execution_count": null,
   "metadata": {
    "id": "HEda3kFnPs-J"
   },
   "outputs": [],
   "source": [
    "cm_display = metrics.ConfusionMatrixDisplay(confusion_matrix= confusion_matrix3, display_labels= [False, True])"
   ]
  },
  {
   "cell_type": "code",
   "execution_count": null,
   "metadata": {
    "colab": {
     "base_uri": "https://localhost:8080/",
     "height": 279
    },
    "id": "r6LvMPqEPs7x",
    "outputId": "91533f4a-7847-4b92-ec45-7cb226fa706a"
   },
   "outputs": [
    {
     "data": {
      "image/png": "[encoded data removed]",
      "text/plain": [
       "<Figure size 432x288 with 2 Axes>"
      ]
     },
     "metadata": {
      "needs_background": "light"
     },
     "output_type": "display_data"
    }
   ],
   "source": [
    "cm_display.plot()\n",
    "\n",
    "plt.show()"
   ]
  },
  {
   "cell_type": "code",
   "execution_count": null,
   "metadata": {
    "colab": {
     "base_uri": "https://localhost:8080/",
     "height": 573
    },
    "id": "6K2Q8LEjPs4s",
    "outputId": "f463921a-9f33-4e61-92da-0a24d83ad1c5"
   },
   "outputs": [
    {
     "data": {
      "image/png": "[encoded data removed]",
      "text/plain": [
       "<Figure size 432x288 with 1 Axes>"
      ]
     },
     "metadata": {
      "needs_background": "light"
     },
     "output_type": "display_data"
    },
    {
     "data": {
      "image/png": "[encoded data removed]",
      "text/plain": [
       "<Figure size 432x288 with 1 Axes>"
      ]
     },
     "metadata": {
      "needs_background": "light"
     },
     "output_type": "display_data"
    }
   ],
   "source": [
    "plt.plot(lstmm3.history['loss'])\n",
    "plt.title('MSE')\n",
    "plt.ylabel('loss')\n",
    "plt.xlabel('epoch')\n",
    "plt.legend(['Train', 'Validation'], loc='upper right')\n",
    "plt.show()\n",
    "\n",
    "#summarize history for val_loss\n",
    "plt.plot(lstmm3.history['val_loss'])\n",
    "plt.title('MSE_val')\n",
    "plt.ylabel('loss')\n",
    "plt.xlabel('epoch')\n",
    "plt.legend(['Train', 'Validation'], loc='upper right')\n",
    "plt.show()"
   ]
  },
  {
   "cell_type": "markdown",
   "metadata": {
    "id": "FU76DwRHATvY"
   },
   "source": [
    "# **Multiple Models**"
   ]
  },
  {
   "cell_type": "code",
   "execution_count": null,
   "metadata": {
    "colab": {
     "base_uri": "https://localhost:8080/"
    },
    "id": "6rTT4DgsCE-5",
    "outputId": "6cae6af5-d075-4f64-b296-730c5350b40c"
   },
   "outputs": [
    {
     "name": "stdout",
     "output_type": "stream",
     "text": [
      "Looking in indexes: https://pypi.org/simple, https://us-python.pkg.dev/colab-wheels/public/simple/\n",
      "Collecting lazypredict\n",
      "  Downloading lazypredict-0.2.12-py2.py3-none-any.whl (12 kB)\n",
      "Requirement already satisfied: lightgbm in /usr/local/lib/python3.8/dist-packages (from lazypredict) (2.2.3)\n",
      "Requirement already satisfied: xgboost in /usr/local/lib/python3.8/dist-packages (from lazypredict) (0.90)\n",
      "Requirement already satisfied: click in /usr/local/lib/python3.8/dist-packages (from lazypredict) (7.1.2)\n",
      "Requirement already satisfied: pandas in /usr/local/lib/python3.8/dist-packages (from lazypredict) (1.3.5)\n",
      "Requirement already satisfied: tqdm in /usr/local/lib/python3.8/dist-packages (from lazypredict) (4.64.1)\n",
      "Requirement already satisfied: joblib in /usr/local/lib/python3.8/dist-packages (from lazypredict) (1.2.0)\n",
      "Requirement already satisfied: scikit-learn in /usr/local/lib/python3.8/dist-packages (from lazypredict) (1.0.2)\n",
      "Requirement already satisfied: scipy in /usr/local/lib/python3.8/dist-packages (from lightgbm->lazypredict) (1.7.3)\n",
      "Requirement already satisfied: numpy in /usr/local/lib/python3.8/dist-packages (from lightgbm->lazypredict) (1.21.6)\n",
      "Requirement already satisfied: python-dateutil>=2.7.3 in /usr/local/lib/python3.8/dist-packages (from pandas->lazypredict) (2.8.2)\n",
      "Requirement already satisfied: pytz>=2017.3 in /usr/local/lib/python3.8/dist-packages (from pandas->lazypredict) (2022.6)\n",
      "Requirement already satisfied: six>=1.5 in /usr/local/lib/python3.8/dist-packages (from python-dateutil>=2.7.3->pandas->lazypredict) (1.15.0)\n",
      "Requirement already satisfied: threadpoolctl>=2.0.0 in /usr/local/lib/python3.8/dist-packages (from scikit-learn->lazypredict) (3.1.0)\n",
      "Installing collected packages: lazypredict\n",
      "Successfully installed lazypredict-0.2.12\n",
      "Looking in indexes: https://pypi.org/simple, https://us-python.pkg.dev/colab-wheels/public/simple/\n",
      "Requirement already satisfied: beautifulsoup4 in /usr/local/lib/python3.8/dist-packages (4.6.3)\n"
     ]
    }
   ],
   "source": [
    "!pip install lazypredict\n",
    "!pip install beautifulsoup4"
   ]
  },
  {
   "cell_type": "code",
   "execution_count": null,
   "metadata": {
    "colab": {
     "base_uri": "https://localhost:8080/"
    },
    "id": "nzhpDysJRyV1",
    "outputId": "438dd56f-e90c-4eb7-9b05-b4c86dc7e012"
   },
   "outputs": [
    {
     "name": "stderr",
     "output_type": "stream",
     "text": [
      "100%|██████████| 29/29 [04:35<00:00,  9.50s/it]"
     ]
    },
    {
     "name": "stdout",
     "output_type": "stream",
     "text": [
      "                               Accuracy  Balanced Accuracy  ROC AUC  F1 Score  \\\n",
      "Model                                                                           \n",
      "LGBMClassifier                     0.91               0.91     0.91      0.91   \n",
      "XGBClassifier                      0.90               0.90     0.90      0.90   \n",
      "BaggingClassifier                  0.88               0.88     0.88      0.88   \n",
      "AdaBoostClassifier                 0.87               0.87     0.87      0.87   \n",
      "RandomForestClassifier             0.87               0.87     0.87      0.87   \n",
      "ExtraTreesClassifier               0.86               0.86     0.86      0.86   \n",
      "SVC                                0.85               0.85     0.85      0.85   \n",
      "LogisticRegression                 0.85               0.85     0.85      0.85   \n",
      "LinearSVC                          0.85               0.85     0.85      0.85   \n",
      "CalibratedClassifierCV             0.85               0.85     0.85      0.85   \n",
      "SGDClassifier                      0.85               0.85     0.85      0.85   \n",
      "RidgeClassifierCV                  0.85               0.85     0.85      0.85   \n",
      "NuSVC                              0.85               0.85     0.85      0.84   \n",
      "RidgeClassifier                    0.85               0.84     0.84      0.84   \n",
      "LinearDiscriminantAnalysis         0.84               0.84     0.84      0.84   \n",
      "DecisionTreeClassifier             0.83               0.83     0.83      0.83   \n",
      "KNeighborsClassifier               0.83               0.83     0.83      0.83   \n",
      "QuadraticDiscriminantAnalysis      0.82               0.82     0.82      0.82   \n",
      "PassiveAggressiveClassifier        0.82               0.82     0.82      0.82   \n",
      "BernoulliNB                        0.82               0.81     0.81      0.81   \n",
      "ExtraTreeClassifier                0.81               0.81     0.81      0.81   \n",
      "GaussianNB                         0.81               0.80     0.80      0.80   \n",
      "NearestCentroid                    0.77               0.77     0.77      0.75   \n",
      "Perceptron                         0.71               0.71     0.71      0.70   \n",
      "LabelPropagation                   0.56               0.55     0.55      0.52   \n",
      "LabelSpreading                     0.56               0.55     0.55      0.52   \n",
      "DummyClassifier                    0.50               0.50     0.50      0.34   \n",
      "\n",
      "                               Time Taken  \n",
      "Model                                      \n",
      "LGBMClassifier                       3.74  \n",
      "XGBClassifier                       20.02  \n",
      "BaggingClassifier                    2.26  \n",
      "AdaBoostClassifier                   7.11  \n",
      "RandomForestClassifier               3.40  \n",
      "ExtraTreesClassifier                 4.18  \n",
      "SVC                                 21.20  \n",
      "LogisticRegression                   1.93  \n",
      "LinearSVC                           23.14  \n",
      "CalibratedClassifierCV              95.15  \n",
      "SGDClassifier                        2.97  \n",
      "RidgeClassifierCV                   11.05  \n",
      "NuSVC                               39.11  \n",
      "RidgeClassifier                      1.33  \n",
      "LinearDiscriminantAnalysis          10.74  \n",
      "DecisionTreeClassifier               0.73  \n",
      "KNeighborsClassifier                 1.47  \n",
      "QuadraticDiscriminantAnalysis       12.13  \n",
      "PassiveAggressiveClassifier          0.92  \n",
      "BernoulliNB                          0.48  \n",
      "ExtraTreeClassifier                  0.43  \n",
      "GaussianNB                           0.50  \n",
      "NearestCentroid                      0.43  \n",
      "Perceptron                           0.64  \n",
      "LabelPropagation                     4.44  \n",
      "LabelSpreading                       5.23  \n",
      "DummyClassifier                      0.37  \n"
     ]
    },
    {
     "name": "stderr",
     "output_type": "stream",
     "text": [
      "\n"
     ]
    }
   ],
   "source": [
    "from lazypredict.Supervised import LazyClassifier \n",
    "from sklearn.model_selection import train_test_split\n",
    "X_train, X_test, Y_train, Y_test = train_test_split(embedded_docs1, Y, test_size=.2, random_state =123)\n",
    "clf = LazyClassifier (verbose=0, ignore_warnings=True, custom_metric=None)\n",
    "models, predictions = clf.fit(X_train, X_test, Y_train, Y_test)\n",
    "print (models)"
   ]
  },
  {
   "cell_type": "code",
   "execution_count": null,
   "metadata": {
    "id": "3Z-NXIx_CLp7"
   },
   "outputs": [],
   "source": [
    "import requests\n",
    "from bs4 import BeautifulSoup "
   ]
  },
  {
   "cell_type": "code",
   "execution_count": null,
   "metadata": {
    "colab": {
     "base_uri": "https://localhost:8080/",
     "height": 36
    },
    "id": "tybndOhgBmTX",
    "outputId": "8a095d2d-45f4-464b-ab1b-060342c2da90"
   },
   "outputs": [
    {
     "data": {
      "application/vnd.google.colaboratory.intrinsic+json": {
       "type": "string"
      },
      "text/plain": [
       "'https://sentence.yourdictionary.com/depression'"
      ]
     },
     "execution_count": 77,
     "metadata": {},
     "output_type": "execute_result"
    }
   ],
   "source": [
    "site_url = \"https://sentence.yourdictionary.com/depression\"\n",
    "final_url = site_url\n",
    "final_url"
   ]
  },
  {
   "cell_type": "code",
   "execution_count": null,
   "metadata": {
    "colab": {
     "base_uri": "https://localhost:8080/",
     "height": 36
    },
    "id": "wvRVgwBvBxZH",
    "outputId": "4942d480-57e7-458f-9443-d774a4b200d6"
   },
   "outputs": [
    {
     "data": {
      "application/vnd.google.colaboratory.intrinsic+json": {
       "type": "string"
      },
      "text/plain": [
       "'https://sentence.yourdictionary.com/happy'"
      ]
     },
     "execution_count": 78,
     "metadata": {},
     "output_type": "execute_result"
    }
   ],
   "source": [
    "site_url2 = \"https://sentence.yourdictionary.com/happy\"\n",
    "final_url2 = site_url2\n",
    "final_url2"
   ]
  },
  {
   "cell_type": "code",
   "execution_count": null,
   "metadata": {
    "id": "UjQN4QC2_1tf"
   },
   "outputs": [],
   "source": [
    "# Request final url & get content\n",
    "page = requests.get(final_url).text\n",
    "\n",
    "# Init soup\n",
    "soup = BeautifulSoup(page)"
   ]
  },
  {
   "cell_type": "code",
   "execution_count": null,
   "metadata": {
    "id": "7rN3y1UACpam"
   },
   "outputs": [],
   "source": [
    "page2 = requests.get(final_url2).text\n",
    "\n",
    "# Init soup\n",
    "soup2 = BeautifulSoup(page2)"
   ]
  },
  {
   "cell_type": "code",
   "execution_count": null,
   "metadata": {
    "id": "axHTUwdI_1q4"
   },
   "outputs": [],
   "source": [
    "sentences = soup.find_all(\"p\", {\"class\": \"sentence-item__text\"})"
   ]
  },
  {
   "cell_type": "code",
   "execution_count": null,
   "metadata": {
    "id": "_tymi2znCubX"
   },
   "outputs": [],
   "source": [
    "sentences2 = soup2.find_all(\"p\", {\"class\": \"sentence-item__text\"})"
   ]
  },
  {
   "cell_type": "code",
   "execution_count": null,
   "metadata": {
    "id": "aX9UyGqdLe44"
   },
   "outputs": [],
   "source": [
    "import pandas as pd\n",
    "\n",
    "# Initialize dataframe\n",
    "sentiment_dataset = pd.DataFrame(columns=[\"text\", \"label\"])"
   ]
  },
  {
   "cell_type": "code",
   "execution_count": null,
   "metadata": {
    "colab": {
     "base_uri": "https://localhost:8080/",
     "height": 49
    },
    "id": "IEFmTbc2_1ny",
    "outputId": "85f990ce-3ffc-493f-a295-135212ef2737"
   },
   "outputs": [
    {
     "data": {
      "text/html": [
       "\n",
       "  <div id=\"df-1b7d68d4-d710-4632-97c8-ab6a565ae9e9\">\n",
       "    <div class=\"colab-df-container\">\n",
       "      <div>\n",
       "<style scoped>\n",
       "    .dataframe tbody tr th:only-of-type {\n",
       "        vertical-align: middle;\n",
       "    }\n",
       "\n",
       "    .dataframe tbody tr th {\n",
       "        vertical-align: top;\n",
       "    }\n",
       "\n",
       "    .dataframe thead th {\n",
       "        text-align: right;\n",
       "    }\n",
       "</style>\n",
       "<table border=\"1\" class=\"dataframe\">\n",
       "  <thead>\n",
       "    <tr style=\"text-align: right;\">\n",
       "      <th></th>\n",
       "      <th>text</th>\n",
       "      <th>label</th>\n",
       "    </tr>\n",
       "  </thead>\n",
       "  <tbody>\n",
       "  </tbody>\n",
       "</table>\n",
       "</div>\n",
       "      <button class=\"colab-df-convert\" onclick=\"convertToInteractive('df-1b7d68d4-d710-4632-97c8-ab6a565ae9e9')\"\n",
       "              title=\"Convert this dataframe to an interactive table.\"\n",
       "              style=\"display:none;\">\n",
       "        \n",
       "  <svg xmlns=\"http://www.w3.org/2000/svg\" height=\"24px\"viewBox=\"0 0 24 24\"\n",
       "       width=\"24px\">\n",
       "    <path d=\"M0 0h24v24H0V0z\" fill=\"none\"/>\n",
       "    <path d=\"M18.56 5.44l.94 2.06.94-2.06 2.06-.94-2.06-.94-.94-2.06-.94 2.06-2.06.94zm-11 1L8.5 8.5l.94-2.06 2.06-.94-2.06-.94L8.5 2.5l-.94 2.06-2.06.94zm10 10l.94 2.06.94-2.06 2.06-.94-2.06-.94-.94-2.06-.94 2.06-2.06.94z\"/><path d=\"M17.41 7.96l-1.37-1.37c-.4-.4-.92-.59-1.43-.59-.52 0-1.04.2-1.43.59L10.3 9.45l-7.72 7.72c-.78.78-.78 2.05 0 2.83L4 21.41c.39.39.9.59 1.41.59.51 0 1.02-.2 1.41-.59l7.78-7.78 2.81-2.81c.8-.78.8-2.07 0-2.86zM5.41 20L4 18.59l7.72-7.72 1.47 1.35L5.41 20z\"/>\n",
       "  </svg>\n",
       "      </button>\n",
       "      \n",
       "  <style>\n",
       "    .colab-df-container {\n",
       "      display:flex;\n",
       "      flex-wrap:wrap;\n",
       "      gap: 12px;\n",
       "    }\n",
       "\n",
       "    .colab-df-convert {\n",
       "      background-color: #E8F0FE;\n",
       "      border: none;\n",
       "      border-radius: 50%;\n",
       "      cursor: pointer;\n",
       "      display: none;\n",
       "      fill: #1967D2;\n",
       "      height: 32px;\n",
       "      padding: 0 0 0 0;\n",
       "      width: 32px;\n",
       "    }\n",
       "\n",
       "    .colab-df-convert:hover {\n",
       "      background-color: #E2EBFA;\n",
       "      box-shadow: 0px 1px 2px rgba(60, 64, 67, 0.3), 0px 1px 3px 1px rgba(60, 64, 67, 0.15);\n",
       "      fill: #174EA6;\n",
       "    }\n",
       "\n",
       "    [theme=dark] .colab-df-convert {\n",
       "      background-color: #3B4455;\n",
       "      fill: #D2E3FC;\n",
       "    }\n",
       "\n",
       "    [theme=dark] .colab-df-convert:hover {\n",
       "      background-color: #434B5C;\n",
       "      box-shadow: 0px 1px 3px 1px rgba(0, 0, 0, 0.15);\n",
       "      filter: drop-shadow(0px 1px 2px rgba(0, 0, 0, 0.3));\n",
       "      fill: #FFFFFF;\n",
       "    }\n",
       "  </style>\n",
       "\n",
       "      <script>\n",
       "        const buttonEl =\n",
       "          document.querySelector('#df-1b7d68d4-d710-4632-97c8-ab6a565ae9e9 button.colab-df-convert');\n",
       "        buttonEl.style.display =\n",
       "          google.colab.kernel.accessAllowed ? 'block' : 'none';\n",
       "\n",
       "        async function convertToInteractive(key) {\n",
       "          const element = document.querySelector('#df-1b7d68d4-d710-4632-97c8-ab6a565ae9e9');\n",
       "          const dataTable =\n",
       "            await google.colab.kernel.invokeFunction('convertToInteractive',\n",
       "                                                     [key], {});\n",
       "          if (!dataTable) return;\n",
       "\n",
       "          const docLinkHtml = 'Like what you see? Visit the ' +\n",
       "            '<a target=\"_blank\" href=https://colab.research.google.com/notebooks/data_table.ipynb>data table notebook</a>'\n",
       "            + ' to learn more about interactive tables.';\n",
       "          element.innerHTML = '';\n",
       "          dataTable['output_type'] = 'display_data';\n",
       "          await google.colab.output.renderOutput(dataTable, element);\n",
       "          const docLink = document.createElement('div');\n",
       "          docLink.innerHTML = docLinkHtml;\n",
       "          element.appendChild(docLink);\n",
       "        }\n",
       "      </script>\n",
       "    </div>\n",
       "  </div>\n",
       "  "
      ],
      "text/plain": [
       "Empty DataFrame\n",
       "Columns: [text, label]\n",
       "Index: []"
      ]
     },
     "execution_count": 84,
     "metadata": {},
     "output_type": "execute_result"
    }
   ],
   "source": [
    "sentiment_dataset"
   ]
  },
  {
   "cell_type": "code",
   "execution_count": null,
   "metadata": {
    "id": "K313HolZLruQ"
   },
   "outputs": [],
   "source": [
    "for sentence in sentences:\n",
    "    sample = {\"text\": sentence.text, \"label\": 1}\n",
    "    sentiment_dataset = sentiment_dataset.append(sample, ignore_index=True)"
   ]
  },
  {
   "cell_type": "code",
   "execution_count": null,
   "metadata": {
    "colab": {
     "base_uri": "https://localhost:8080/",
     "height": 223
    },
    "id": "vAXvtfBf_1kq",
    "outputId": "4fa625da-ea3b-4718-fa6a-be074c797038"
   },
   "outputs": [
    {
     "name": "stdout",
     "output_type": "stream",
     "text": [
      "(500, 2)\n"
     ]
    },
    {
     "data": {
      "text/html": [
       "\n",
       "  <div id=\"df-f0b86303-4297-4230-bf52-6c54d5c2f95a\">\n",
       "    <div class=\"colab-df-container\">\n",
       "      <div>\n",
       "<style scoped>\n",
       "    .dataframe tbody tr th:only-of-type {\n",
       "        vertical-align: middle;\n",
       "    }\n",
       "\n",
       "    .dataframe tbody tr th {\n",
       "        vertical-align: top;\n",
       "    }\n",
       "\n",
       "    .dataframe thead th {\n",
       "        text-align: right;\n",
       "    }\n",
       "</style>\n",
       "<table border=\"1\" class=\"dataframe\">\n",
       "  <thead>\n",
       "    <tr style=\"text-align: right;\">\n",
       "      <th></th>\n",
       "      <th>text</th>\n",
       "      <th>label</th>\n",
       "    </tr>\n",
       "  </thead>\n",
       "  <tbody>\n",
       "    <tr>\n",
       "      <th>0</th>\n",
       "      <td>She hadn't recognized it as depression then, t...</td>\n",
       "      <td>1</td>\n",
       "    </tr>\n",
       "    <tr>\n",
       "      <th>1</th>\n",
       "      <td>Physical ills were miserable, but this depress...</td>\n",
       "      <td>1</td>\n",
       "    </tr>\n",
       "    <tr>\n",
       "      <th>2</th>\n",
       "      <td>It is in the south that the depression remains...</td>\n",
       "      <td>1</td>\n",
       "    </tr>\n",
       "    <tr>\n",
       "      <th>3</th>\n",
       "      <td>Since the ball he had felt the approach of a f...</td>\n",
       "      <td>1</td>\n",
       "    </tr>\n",
       "    <tr>\n",
       "      <th>4</th>\n",
       "      <td>After these syndromes, we come to the entire s...</td>\n",
       "      <td>1</td>\n",
       "    </tr>\n",
       "  </tbody>\n",
       "</table>\n",
       "</div>\n",
       "      <button class=\"colab-df-convert\" onclick=\"convertToInteractive('df-f0b86303-4297-4230-bf52-6c54d5c2f95a')\"\n",
       "              title=\"Convert this dataframe to an interactive table.\"\n",
       "              style=\"display:none;\">\n",
       "        \n",
       "  <svg xmlns=\"http://www.w3.org/2000/svg\" height=\"24px\"viewBox=\"0 0 24 24\"\n",
       "       width=\"24px\">\n",
       "    <path d=\"M0 0h24v24H0V0z\" fill=\"none\"/>\n",
       "    <path d=\"M18.56 5.44l.94 2.06.94-2.06 2.06-.94-2.06-.94-.94-2.06-.94 2.06-2.06.94zm-11 1L8.5 8.5l.94-2.06 2.06-.94-2.06-.94L8.5 2.5l-.94 2.06-2.06.94zm10 10l.94 2.06.94-2.06 2.06-.94-2.06-.94-.94-2.06-.94 2.06-2.06.94z\"/><path d=\"M17.41 7.96l-1.37-1.37c-.4-.4-.92-.59-1.43-.59-.52 0-1.04.2-1.43.59L10.3 9.45l-7.72 7.72c-.78.78-.78 2.05 0 2.83L4 21.41c.39.39.9.59 1.41.59.51 0 1.02-.2 1.41-.59l7.78-7.78 2.81-2.81c.8-.78.8-2.07 0-2.86zM5.41 20L4 18.59l7.72-7.72 1.47 1.35L5.41 20z\"/>\n",
       "  </svg>\n",
       "      </button>\n",
       "      \n",
       "  <style>\n",
       "    .colab-df-container {\n",
       "      display:flex;\n",
       "      flex-wrap:wrap;\n",
       "      gap: 12px;\n",
       "    }\n",
       "\n",
       "    .colab-df-convert {\n",
       "      background-color: #E8F0FE;\n",
       "      border: none;\n",
       "      border-radius: 50%;\n",
       "      cursor: pointer;\n",
       "      display: none;\n",
       "      fill: #1967D2;\n",
       "      height: 32px;\n",
       "      padding: 0 0 0 0;\n",
       "      width: 32px;\n",
       "    }\n",
       "\n",
       "    .colab-df-convert:hover {\n",
       "      background-color: #E2EBFA;\n",
       "      box-shadow: 0px 1px 2px rgba(60, 64, 67, 0.3), 0px 1px 3px 1px rgba(60, 64, 67, 0.15);\n",
       "      fill: #174EA6;\n",
       "    }\n",
       "\n",
       "    [theme=dark] .colab-df-convert {\n",
       "      background-color: #3B4455;\n",
       "      fill: #D2E3FC;\n",
       "    }\n",
       "\n",
       "    [theme=dark] .colab-df-convert:hover {\n",
       "      background-color: #434B5C;\n",
       "      box-shadow: 0px 1px 3px 1px rgba(0, 0, 0, 0.15);\n",
       "      filter: drop-shadow(0px 1px 2px rgba(0, 0, 0, 0.3));\n",
       "      fill: #FFFFFF;\n",
       "    }\n",
       "  </style>\n",
       "\n",
       "      <script>\n",
       "        const buttonEl =\n",
       "          document.querySelector('#df-f0b86303-4297-4230-bf52-6c54d5c2f95a button.colab-df-convert');\n",
       "        buttonEl.style.display =\n",
       "          google.colab.kernel.accessAllowed ? 'block' : 'none';\n",
       "\n",
       "        async function convertToInteractive(key) {\n",
       "          const element = document.querySelector('#df-f0b86303-4297-4230-bf52-6c54d5c2f95a');\n",
       "          const dataTable =\n",
       "            await google.colab.kernel.invokeFunction('convertToInteractive',\n",
       "                                                     [key], {});\n",
       "          if (!dataTable) return;\n",
       "\n",
       "          const docLinkHtml = 'Like what you see? Visit the ' +\n",
       "            '<a target=\"_blank\" href=https://colab.research.google.com/notebooks/data_table.ipynb>data table notebook</a>'\n",
       "            + ' to learn more about interactive tables.';\n",
       "          element.innerHTML = '';\n",
       "          dataTable['output_type'] = 'display_data';\n",
       "          await google.colab.output.renderOutput(dataTable, element);\n",
       "          const docLink = document.createElement('div');\n",
       "          docLink.innerHTML = docLinkHtml;\n",
       "          element.appendChild(docLink);\n",
       "        }\n",
       "      </script>\n",
       "    </div>\n",
       "  </div>\n",
       "  "
      ],
      "text/plain": [
       "                                                text label\n",
       "0  She hadn't recognized it as depression then, t...     1\n",
       "1  Physical ills were miserable, but this depress...     1\n",
       "2  It is in the south that the depression remains...     1\n",
       "3  Since the ball he had felt the approach of a f...     1\n",
       "4  After these syndromes, we come to the entire s...     1"
      ]
     },
     "execution_count": 86,
     "metadata": {},
     "output_type": "execute_result"
    }
   ],
   "source": [
    "print(sentiment_dataset.shape)\n",
    "sentiment_dataset.head()"
   ]
  },
  {
   "cell_type": "code",
   "execution_count": null,
   "metadata": {
    "id": "1FGTGApy_1hn"
   },
   "outputs": [],
   "source": [
    "# Loop over sentences & append samples\n",
    "for sentence in sentences2:\n",
    "    sample = {\"text\": sentence.text, \"label\": 0}\n",
    "    sentiment_dataset = sentiment_dataset.append(sample, ignore_index=True)"
   ]
  },
  {
   "cell_type": "code",
   "execution_count": null,
   "metadata": {
    "colab": {
     "base_uri": "https://localhost:8080/",
     "height": 424
    },
    "id": "alrvoNI8MPSQ",
    "outputId": "3792f3af-14cd-4a0a-dc8f-675f7ed20b2e"
   },
   "outputs": [
    {
     "data": {
      "text/html": [
       "\n",
       "  <div id=\"df-8ef58eeb-1a6a-4610-9fb2-4a4dc3cdb242\">\n",
       "    <div class=\"colab-df-container\">\n",
       "      <div>\n",
       "<style scoped>\n",
       "    .dataframe tbody tr th:only-of-type {\n",
       "        vertical-align: middle;\n",
       "    }\n",
       "\n",
       "    .dataframe tbody tr th {\n",
       "        vertical-align: top;\n",
       "    }\n",
       "\n",
       "    .dataframe thead th {\n",
       "        text-align: right;\n",
       "    }\n",
       "</style>\n",
       "<table border=\"1\" class=\"dataframe\">\n",
       "  <thead>\n",
       "    <tr style=\"text-align: right;\">\n",
       "      <th></th>\n",
       "      <th>text</th>\n",
       "      <th>label</th>\n",
       "    </tr>\n",
       "  </thead>\n",
       "  <tbody>\n",
       "    <tr>\n",
       "      <th>0</th>\n",
       "      <td>She hadn't recognized it as depression then, t...</td>\n",
       "      <td>1</td>\n",
       "    </tr>\n",
       "    <tr>\n",
       "      <th>1</th>\n",
       "      <td>Physical ills were miserable, but this depress...</td>\n",
       "      <td>1</td>\n",
       "    </tr>\n",
       "    <tr>\n",
       "      <th>2</th>\n",
       "      <td>It is in the south that the depression remains...</td>\n",
       "      <td>1</td>\n",
       "    </tr>\n",
       "    <tr>\n",
       "      <th>3</th>\n",
       "      <td>Since the ball he had felt the approach of a f...</td>\n",
       "      <td>1</td>\n",
       "    </tr>\n",
       "    <tr>\n",
       "      <th>4</th>\n",
       "      <td>After these syndromes, we come to the entire s...</td>\n",
       "      <td>1</td>\n",
       "    </tr>\n",
       "    <tr>\n",
       "      <th>...</th>\n",
       "      <td>...</td>\n",
       "      <td>...</td>\n",
       "    </tr>\n",
       "    <tr>\n",
       "      <th>995</th>\n",
       "      <td>This paradox is violent, but it is quite in ha...</td>\n",
       "      <td>0</td>\n",
       "    </tr>\n",
       "    <tr>\n",
       "      <th>996</th>\n",
       "      <td>Of his poems may be mentioned The Oath, a seri...</td>\n",
       "      <td>0</td>\n",
       "    </tr>\n",
       "    <tr>\n",
       "      <th>997</th>\n",
       "      <td>The marriage, only accepted by Wilhelmina unde...</td>\n",
       "      <td>0</td>\n",
       "    </tr>\n",
       "    <tr>\n",
       "      <th>998</th>\n",
       "      <td>They found a brilliant interpreter in Aeschine...</td>\n",
       "      <td>0</td>\n",
       "    </tr>\n",
       "    <tr>\n",
       "      <th>999</th>\n",
       "      <td>It thenes was a day of solemn and happy memori...</td>\n",
       "      <td>0</td>\n",
       "    </tr>\n",
       "  </tbody>\n",
       "</table>\n",
       "<p>1000 rows × 2 columns</p>\n",
       "</div>\n",
       "      <button class=\"colab-df-convert\" onclick=\"convertToInteractive('df-8ef58eeb-1a6a-4610-9fb2-4a4dc3cdb242')\"\n",
       "              title=\"Convert this dataframe to an interactive table.\"\n",
       "              style=\"display:none;\">\n",
       "        \n",
       "  <svg xmlns=\"http://www.w3.org/2000/svg\" height=\"24px\"viewBox=\"0 0 24 24\"\n",
       "       width=\"24px\">\n",
       "    <path d=\"M0 0h24v24H0V0z\" fill=\"none\"/>\n",
       "    <path d=\"M18.56 5.44l.94 2.06.94-2.06 2.06-.94-2.06-.94-.94-2.06-.94 2.06-2.06.94zm-11 1L8.5 8.5l.94-2.06 2.06-.94-2.06-.94L8.5 2.5l-.94 2.06-2.06.94zm10 10l.94 2.06.94-2.06 2.06-.94-2.06-.94-.94-2.06-.94 2.06-2.06.94z\"/><path d=\"M17.41 7.96l-1.37-1.37c-.4-.4-.92-.59-1.43-.59-.52 0-1.04.2-1.43.59L10.3 9.45l-7.72 7.72c-.78.78-.78 2.05 0 2.83L4 21.41c.39.39.9.59 1.41.59.51 0 1.02-.2 1.41-.59l7.78-7.78 2.81-2.81c.8-.78.8-2.07 0-2.86zM5.41 20L4 18.59l7.72-7.72 1.47 1.35L5.41 20z\"/>\n",
       "  </svg>\n",
       "      </button>\n",
       "      \n",
       "  <style>\n",
       "    .colab-df-container {\n",
       "      display:flex;\n",
       "      flex-wrap:wrap;\n",
       "      gap: 12px;\n",
       "    }\n",
       "\n",
       "    .colab-df-convert {\n",
       "      background-color: #E8F0FE;\n",
       "      border: none;\n",
       "      border-radius: 50%;\n",
       "      cursor: pointer;\n",
       "      display: none;\n",
       "      fill: #1967D2;\n",
       "      height: 32px;\n",
       "      padding: 0 0 0 0;\n",
       "      width: 32px;\n",
       "    }\n",
       "\n",
       "    .colab-df-convert:hover {\n",
       "      background-color: #E2EBFA;\n",
       "      box-shadow: 0px 1px 2px rgba(60, 64, 67, 0.3), 0px 1px 3px 1px rgba(60, 64, 67, 0.15);\n",
       "      fill: #174EA6;\n",
       "    }\n",
       "\n",
       "    [theme=dark] .colab-df-convert {\n",
       "      background-color: #3B4455;\n",
       "      fill: #D2E3FC;\n",
       "    }\n",
       "\n",
       "    [theme=dark] .colab-df-convert:hover {\n",
       "      background-color: #434B5C;\n",
       "      box-shadow: 0px 1px 3px 1px rgba(0, 0, 0, 0.15);\n",
       "      filter: drop-shadow(0px 1px 2px rgba(0, 0, 0, 0.3));\n",
       "      fill: #FFFFFF;\n",
       "    }\n",
       "  </style>\n",
       "\n",
       "      <script>\n",
       "        const buttonEl =\n",
       "          document.querySelector('#df-8ef58eeb-1a6a-4610-9fb2-4a4dc3cdb242 button.colab-df-convert');\n",
       "        buttonEl.style.display =\n",
       "          google.colab.kernel.accessAllowed ? 'block' : 'none';\n",
       "\n",
       "        async function convertToInteractive(key) {\n",
       "          const element = document.querySelector('#df-8ef58eeb-1a6a-4610-9fb2-4a4dc3cdb242');\n",
       "          const dataTable =\n",
       "            await google.colab.kernel.invokeFunction('convertToInteractive',\n",
       "                                                     [key], {});\n",
       "          if (!dataTable) return;\n",
       "\n",
       "          const docLinkHtml = 'Like what you see? Visit the ' +\n",
       "            '<a target=\"_blank\" href=https://colab.research.google.com/notebooks/data_table.ipynb>data table notebook</a>'\n",
       "            + ' to learn more about interactive tables.';\n",
       "          element.innerHTML = '';\n",
       "          dataTable['output_type'] = 'display_data';\n",
       "          await google.colab.output.renderOutput(dataTable, element);\n",
       "          const docLink = document.createElement('div');\n",
       "          docLink.innerHTML = docLinkHtml;\n",
       "          element.appendChild(docLink);\n",
       "        }\n",
       "      </script>\n",
       "    </div>\n",
       "  </div>\n",
       "  "
      ],
      "text/plain": [
       "                                                  text label\n",
       "0    She hadn't recognized it as depression then, t...     1\n",
       "1    Physical ills were miserable, but this depress...     1\n",
       "2    It is in the south that the depression remains...     1\n",
       "3    Since the ball he had felt the approach of a f...     1\n",
       "4    After these syndromes, we come to the entire s...     1\n",
       "..                                                 ...   ...\n",
       "995  This paradox is violent, but it is quite in ha...     0\n",
       "996  Of his poems may be mentioned The Oath, a seri...     0\n",
       "997  The marriage, only accepted by Wilhelmina unde...     0\n",
       "998  They found a brilliant interpreter in Aeschine...     0\n",
       "999  It thenes was a day of solemn and happy memori...     0\n",
       "\n",
       "[1000 rows x 2 columns]"
      ]
     },
     "execution_count": 88,
     "metadata": {},
     "output_type": "execute_result"
    }
   ],
   "source": [
    "sentiment_dataset"
   ]
  },
  {
   "cell_type": "code",
   "execution_count": null,
   "metadata": {
    "colab": {
     "base_uri": "https://localhost:8080/",
     "height": 279
    },
    "id": "mq5IiiN9MhUc",
    "outputId": "c8ea00bd-0817-4159-e3ee-1e7ccba4b1ab"
   },
   "outputs": [
    {
     "data": {
      "text/plain": [
       "<matplotlib.axes._subplots.AxesSubplot at 0x7f0f01578040>"
      ]
     },
     "execution_count": 89,
     "metadata": {},
     "output_type": "execute_result"
    },
    {
     "data": {
      "image/png": "[encoded data removed]",
      "text/plain": [
       "<Figure size 432x288 with 1 Axes>"
      ]
     },
     "metadata": {
      "needs_background": "light"
     },
     "output_type": "display_data"
    }
   ],
   "source": [
    "sentiment_dataset[\"label\"].value_counts(normalize=True).plot(kind=\"bar\")"
   ]
  },
  {
   "cell_type": "code",
   "execution_count": null,
   "metadata": {
    "colab": {
     "base_uri": "https://localhost:8080/",
     "height": 424
    },
    "id": "62inhHpdSdR-",
    "outputId": "96e70799-6b3e-484c-a728-5754840b57af"
   },
   "outputs": [
    {
     "data": {
      "text/html": [
       "\n",
       "  <div id=\"df-463e477d-b5c2-48d1-8129-4a00e80a37fb\">\n",
       "    <div class=\"colab-df-container\">\n",
       "      <div>\n",
       "<style scoped>\n",
       "    .dataframe tbody tr th:only-of-type {\n",
       "        vertical-align: middle;\n",
       "    }\n",
       "\n",
       "    .dataframe tbody tr th {\n",
       "        vertical-align: top;\n",
       "    }\n",
       "\n",
       "    .dataframe thead th {\n",
       "        text-align: right;\n",
       "    }\n",
       "</style>\n",
       "<table border=\"1\" class=\"dataframe\">\n",
       "  <thead>\n",
       "    <tr style=\"text-align: right;\">\n",
       "      <th></th>\n",
       "      <th>text</th>\n",
       "      <th>label</th>\n",
       "    </tr>\n",
       "  </thead>\n",
       "  <tbody>\n",
       "    <tr>\n",
       "      <th>0</th>\n",
       "      <td>She hadn't recognized it as depression then, t...</td>\n",
       "      <td>1</td>\n",
       "    </tr>\n",
       "    <tr>\n",
       "      <th>1</th>\n",
       "      <td>Physical ills were miserable, but this depress...</td>\n",
       "      <td>1</td>\n",
       "    </tr>\n",
       "    <tr>\n",
       "      <th>2</th>\n",
       "      <td>It is in the south that the depression remains...</td>\n",
       "      <td>1</td>\n",
       "    </tr>\n",
       "    <tr>\n",
       "      <th>3</th>\n",
       "      <td>Since the ball he had felt the approach of a f...</td>\n",
       "      <td>1</td>\n",
       "    </tr>\n",
       "    <tr>\n",
       "      <th>4</th>\n",
       "      <td>After these syndromes, we come to the entire s...</td>\n",
       "      <td>1</td>\n",
       "    </tr>\n",
       "    <tr>\n",
       "      <th>...</th>\n",
       "      <td>...</td>\n",
       "      <td>...</td>\n",
       "    </tr>\n",
       "    <tr>\n",
       "      <th>995</th>\n",
       "      <td>This paradox is violent, but it is quite in ha...</td>\n",
       "      <td>0</td>\n",
       "    </tr>\n",
       "    <tr>\n",
       "      <th>996</th>\n",
       "      <td>Of his poems may be mentioned The Oath, a seri...</td>\n",
       "      <td>0</td>\n",
       "    </tr>\n",
       "    <tr>\n",
       "      <th>997</th>\n",
       "      <td>The marriage, only accepted by Wilhelmina unde...</td>\n",
       "      <td>0</td>\n",
       "    </tr>\n",
       "    <tr>\n",
       "      <th>998</th>\n",
       "      <td>They found a brilliant interpreter in Aeschine...</td>\n",
       "      <td>0</td>\n",
       "    </tr>\n",
       "    <tr>\n",
       "      <th>999</th>\n",
       "      <td>It thenes was a day of solemn and happy memori...</td>\n",
       "      <td>0</td>\n",
       "    </tr>\n",
       "  </tbody>\n",
       "</table>\n",
       "<p>1000 rows × 2 columns</p>\n",
       "</div>\n",
       "      <button class=\"colab-df-convert\" onclick=\"convertToInteractive('df-463e477d-b5c2-48d1-8129-4a00e80a37fb')\"\n",
       "              title=\"Convert this dataframe to an interactive table.\"\n",
       "              style=\"display:none;\">\n",
       "        \n",
       "  <svg xmlns=\"http://www.w3.org/2000/svg\" height=\"24px\"viewBox=\"0 0 24 24\"\n",
       "       width=\"24px\">\n",
       "    <path d=\"M0 0h24v24H0V0z\" fill=\"none\"/>\n",
       "    <path d=\"M18.56 5.44l.94 2.06.94-2.06 2.06-.94-2.06-.94-.94-2.06-.94 2.06-2.06.94zm-11 1L8.5 8.5l.94-2.06 2.06-.94-2.06-.94L8.5 2.5l-.94 2.06-2.06.94zm10 10l.94 2.06.94-2.06 2.06-.94-2.06-.94-.94-2.06-.94 2.06-2.06.94z\"/><path d=\"M17.41 7.96l-1.37-1.37c-.4-.4-.92-.59-1.43-.59-.52 0-1.04.2-1.43.59L10.3 9.45l-7.72 7.72c-.78.78-.78 2.05 0 2.83L4 21.41c.39.39.9.59 1.41.59.51 0 1.02-.2 1.41-.59l7.78-7.78 2.81-2.81c.8-.78.8-2.07 0-2.86zM5.41 20L4 18.59l7.72-7.72 1.47 1.35L5.41 20z\"/>\n",
       "  </svg>\n",
       "      </button>\n",
       "      \n",
       "  <style>\n",
       "    .colab-df-container {\n",
       "      display:flex;\n",
       "      flex-wrap:wrap;\n",
       "      gap: 12px;\n",
       "    }\n",
       "\n",
       "    .colab-df-convert {\n",
       "      background-color: #E8F0FE;\n",
       "      border: none;\n",
       "      border-radius: 50%;\n",
       "      cursor: pointer;\n",
       "      display: none;\n",
       "      fill: #1967D2;\n",
       "      height: 32px;\n",
       "      padding: 0 0 0 0;\n",
       "      width: 32px;\n",
       "    }\n",
       "\n",
       "    .colab-df-convert:hover {\n",
       "      background-color: #E2EBFA;\n",
       "      box-shadow: 0px 1px 2px rgba(60, 64, 67, 0.3), 0px 1px 3px 1px rgba(60, 64, 67, 0.15);\n",
       "      fill: #174EA6;\n",
       "    }\n",
       "\n",
       "    [theme=dark] .colab-df-convert {\n",
       "      background-color: #3B4455;\n",
       "      fill: #D2E3FC;\n",
       "    }\n",
       "\n",
       "    [theme=dark] .colab-df-convert:hover {\n",
       "      background-color: #434B5C;\n",
       "      box-shadow: 0px 1px 3px 1px rgba(0, 0, 0, 0.15);\n",
       "      filter: drop-shadow(0px 1px 2px rgba(0, 0, 0, 0.3));\n",
       "      fill: #FFFFFF;\n",
       "    }\n",
       "  </style>\n",
       "\n",
       "      <script>\n",
       "        const buttonEl =\n",
       "          document.querySelector('#df-463e477d-b5c2-48d1-8129-4a00e80a37fb button.colab-df-convert');\n",
       "        buttonEl.style.display =\n",
       "          google.colab.kernel.accessAllowed ? 'block' : 'none';\n",
       "\n",
       "        async function convertToInteractive(key) {\n",
       "          const element = document.querySelector('#df-463e477d-b5c2-48d1-8129-4a00e80a37fb');\n",
       "          const dataTable =\n",
       "            await google.colab.kernel.invokeFunction('convertToInteractive',\n",
       "                                                     [key], {});\n",
       "          if (!dataTable) return;\n",
       "\n",
       "          const docLinkHtml = 'Like what you see? Visit the ' +\n",
       "            '<a target=\"_blank\" href=https://colab.research.google.com/notebooks/data_table.ipynb>data table notebook</a>'\n",
       "            + ' to learn more about interactive tables.';\n",
       "          element.innerHTML = '';\n",
       "          dataTable['output_type'] = 'display_data';\n",
       "          await google.colab.output.renderOutput(dataTable, element);\n",
       "          const docLink = document.createElement('div');\n",
       "          docLink.innerHTML = docLinkHtml;\n",
       "          element.appendChild(docLink);\n",
       "        }\n",
       "      </script>\n",
       "    </div>\n",
       "  </div>\n",
       "  "
      ],
      "text/plain": [
       "                                                  text label\n",
       "0    She hadn't recognized it as depression then, t...     1\n",
       "1    Physical ills were miserable, but this depress...     1\n",
       "2    It is in the south that the depression remains...     1\n",
       "3    Since the ball he had felt the approach of a f...     1\n",
       "4    After these syndromes, we come to the entire s...     1\n",
       "..                                                 ...   ...\n",
       "995  This paradox is violent, but it is quite in ha...     0\n",
       "996  Of his poems may be mentioned The Oath, a seri...     0\n",
       "997  The marriage, only accepted by Wilhelmina unde...     0\n",
       "998  They found a brilliant interpreter in Aeschine...     0\n",
       "999  It thenes was a day of solemn and happy memori...     0\n",
       "\n",
       "[1000 rows x 2 columns]"
      ]
     },
     "execution_count": 127,
     "metadata": {},
     "output_type": "execute_result"
    }
   ],
   "source": [
    "sentiment_dataset"
   ]
  },
  {
   "cell_type": "code",
   "execution_count": null,
   "metadata": {
    "id": "GQpSkI3URRYX"
   },
   "outputs": [],
   "source": []
  }
 ],
 "metadata": {
  "accelerator": "GPU",
  "colab": {
   "provenance": []
  },
  "gpuClass": "standard",
  "kernelspec": {
   "display_name": "Python 3 (ipykernel)",
   "language": "python",
   "name": "python3"
  },
  "language_info": {
   "codemirror_mode": {
    "name": "ipython",
    "version": 3
   },
   "file_extension": ".py",
   "mimetype": "text/x-python",
   "name": "python",
   "nbconvert_exporter": "python",
   "pygments_lexer": "ipython3",
   "version": "3.9.12"
  }
 },
 "nbformat": 4,
 "nbformat_minor": 1
}
